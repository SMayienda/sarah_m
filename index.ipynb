{
  "cells": [
    {
      "cell_type": "markdown",
      "metadata": {
        "id": "view-in-github",
        "colab_type": "text"
      },
      "source": [
        "<a href=\"https://colab.research.google.com/github/SMayienda/sarah_m/blob/main/index.ipynb\" target=\"_parent\"><img src=\"https://colab.research.google.com/assets/colab-badge.svg\" alt=\"Open In Colab\"/></a>"
      ]
    },
    {
      "cell_type": "markdown",
      "metadata": {
        "id": "vMwy5GH3ckdH"
      },
      "source": [
        "# Getting Started with NumPy - Lab"
      ]
    },
    {
      "cell_type": "markdown",
      "metadata": {
        "id": "S4WAekwLckdJ"
      },
      "source": [
        "## Introduction"
      ]
    },
    {
      "cell_type": "markdown",
      "metadata": {
        "id": "a-s6Yjy0ckdJ"
      },
      "source": [
        "Now that we have introduced NumPy, let's put it to practice. In this lab, you are going to be creating arrays, performing operations on them, and returning new arrays all using the NumPy library. Let's get started!"
      ]
    },
    {
      "cell_type": "markdown",
      "metadata": {
        "id": "oDxQ7C2VckdJ"
      },
      "source": [
        "## Objectives\n",
        "\n",
        "You will be able to:\n",
        "\n",
        "- Instantiate a numpy array with specified values\n",
        "- Use broadcasting to perform a math operation on an entire numpy array\n"
      ]
    },
    {
      "cell_type": "markdown",
      "metadata": {
        "id": "WA3Jt_OdckdK"
      },
      "source": [
        "## Import `NumPy` under the standard alias"
      ]
    },
    {
      "cell_type": "code",
      "execution_count": 2,
      "metadata": {
        "id": "j5U_nit6ckdK"
      },
      "outputs": [],
      "source": [
        "# Import numpy using the standard alias\n",
        "import numpy as np"
      ]
    },
    {
      "cell_type": "markdown",
      "metadata": {
        "id": "jO6AuYMlckdK"
      },
      "source": [
        "## Generate some mock data"
      ]
    },
    {
      "cell_type": "markdown",
      "metadata": {
        "id": "V4JljC29ckdK"
      },
      "source": [
        "Create a NumPy array for each of the following:\n",
        "    1. Using a range\n",
        "    2. Using a Python list\n",
        "    \n",
        "Below, create a list in Python that has 5 elements (i.e. [0,1,2,3,4]) and assign it to the variable `py_list`.\n",
        "\n",
        "Next, do the same, but instead of a list, create a range with 5 elements and assign it to the variable, `py_range`.\n",
        "\n",
        "Finally, use the list and range to create NumPy arrays and assign the array from list to the variable `array_from_list`, and the array from the range to the variable `array_from_range`."
      ]
    },
    {
      "cell_type": "code",
      "execution_count": 3,
      "metadata": {
        "id": "DsgHuW-WckdL"
      },
      "outputs": [],
      "source": [
        "# Your code here\n",
        "py_list = [1,2,3,4,]\n",
        "py_range = range(5)\n",
        "array_from_list = np.array(py_list)\n",
        "array_from_range = np.array(py_range)"
      ]
    },
    {
      "cell_type": "code",
      "source": [
        "py_list"
      ],
      "metadata": {
        "id": "Vu9j0vPdlobq",
        "outputId": "b83d3ead-39b0-4d5f-bf5c-6e4a9e5ddda5",
        "colab": {
          "base_uri": "https://localhost:8080/"
        }
      },
      "execution_count": 4,
      "outputs": [
        {
          "output_type": "execute_result",
          "data": {
            "text/plain": [
              "[1, 2, 3, 4]"
            ]
          },
          "metadata": {},
          "execution_count": 4
        }
      ]
    },
    {
      "cell_type": "code",
      "source": [
        "py_list[2]"
      ],
      "metadata": {
        "id": "ItKT3Fdbmewb",
        "outputId": "c3f6d6d0-d105-4682-9eab-f82e0e81ddc0",
        "colab": {
          "base_uri": "https://localhost:8080/"
        }
      },
      "execution_count": 5,
      "outputs": [
        {
          "output_type": "execute_result",
          "data": {
            "text/plain": [
              "3"
            ]
          },
          "metadata": {},
          "execution_count": 5
        }
      ]
    },
    {
      "cell_type": "code",
      "source": [
        "py_range"
      ],
      "metadata": {
        "id": "NPxwYxYLmlpQ",
        "outputId": "dfef7dbf-533b-4e0f-a203-af3f85fcdfe2",
        "colab": {
          "base_uri": "https://localhost:8080/"
        }
      },
      "execution_count": 6,
      "outputs": [
        {
          "output_type": "execute_result",
          "data": {
            "text/plain": [
              "range(0, 5)"
            ]
          },
          "metadata": {},
          "execution_count": 6
        }
      ]
    },
    {
      "cell_type": "code",
      "source": [
        "array_from_list"
      ],
      "metadata": {
        "id": "C4DOLfwLmstF",
        "outputId": "e0b7a5ab-9c6f-479e-f938-01244c51016c",
        "colab": {
          "base_uri": "https://localhost:8080/"
        }
      },
      "execution_count": 7,
      "outputs": [
        {
          "output_type": "execute_result",
          "data": {
            "text/plain": [
              "array([1, 2, 3, 4])"
            ]
          },
          "metadata": {},
          "execution_count": 7
        }
      ]
    },
    {
      "cell_type": "markdown",
      "metadata": {
        "id": "Ow0ZjkpmckdL"
      },
      "source": [
        "Next, we have a list of heights and weights and we'd like to use them to create a collection of BMIs. However, they are both in inches and pounds (imperial system), respectively.\n",
        "\n",
        "Let's use what we know to create NumPy arrays with the metric equivalent values (height in meters & weight in kg).\n",
        "\n",
        "> **Remember:** *NumPy can make these calculations a lot easier and with less code than a list!*"
      ]
    },
    {
      "cell_type": "markdown",
      "metadata": {
        "id": "JPW4eoDxckdL"
      },
      "source": [
        "> 1.0 inch = 0.0254 meters\n",
        "\n",
        "> 2.2046 lbs = 1 kilogram"
      ]
    },
    {
      "cell_type": "code",
      "execution_count": 10,
      "metadata": {
        "id": "EXpDxvhrckdL",
        "outputId": "8e53acea-ea85-4892-8ce5-164e5abcf12e",
        "colab": {
          "base_uri": "https://localhost:8080/"
        }
      },
      "outputs": [
        {
          "output_type": "execute_result",
          "data": {
            "text/plain": [
              "array([1.651 , 1.7272, 1.8542, 1.905 , 1.9812])"
            ]
          },
          "metadata": {},
          "execution_count": 10
        }
      ],
      "source": [
        "# Use the conversion rate for turning height in inches to meters\n",
        "list_height_inches = [65, 68, 73, 75, 78]\n",
        "\n",
        "# Your code here\n",
        "array_height_inches = np.array(list_height_inches)\n",
        "array_height_meters = array_height_inches * 0.0254\n",
        "array_height_meters"
      ]
    },
    {
      "cell_type": "code",
      "execution_count": 12,
      "metadata": {
        "id": "PUjXcmPdckdL",
        "outputId": "1f90e0e9-9494-4bac-ea84-a79b161edd6d",
        "colab": {
          "base_uri": "https://localhost:8080/"
        }
      },
      "outputs": [
        {
          "output_type": "execute_result",
          "data": {
            "text/plain": [
              "array([ 68.03955366,  63.50358342,  99.79134537,  92.98739   ,\n",
              "       120.20321147])"
            ]
          },
          "metadata": {},
          "execution_count": 12
        }
      ],
      "source": [
        "# Use the conversion rate for turning weight in pounds to kilograms\n",
        "list_weight_pounds = [150, 140, 220, 205, 265]\n",
        "\n",
        "# Your code here\n",
        "array_weight_pounds = np.array(list_weight_pounds)\n",
        "array_weight_kg = np.array(array_weight_pounds) / 2.2046\n",
        "array_weight_kg"
      ]
    },
    {
      "cell_type": "markdown",
      "metadata": {
        "id": "LGcN2P-YckdL"
      },
      "source": [
        "The metric formula for calculating BMI is as follows:\n",
        "\n",
        "> BMI = weight (kg) ÷ height^2 (m^2)\n",
        "\n",
        "So, to get BMI we divide weight by the squared value of height. For example, if I weighed 130kg and was 1.9 meters tall, the calculation would look like:\n",
        "\n",
        "> BMI = 130 / (1.9*1.9)\n",
        "\n",
        "Use the BMI calculation to create a NumPy array of BMIs"
      ]
    },
    {
      "cell_type": "code",
      "execution_count": 16,
      "metadata": {
        "id": "C6fSTnzYckdV",
        "outputId": "5f422f74-cdd4-481e-96f3-fb1d0ad7c767",
        "colab": {
          "base_uri": "https://localhost:8080/"
        }
      },
      "outputs": [
        {
          "output_type": "execute_result",
          "data": {
            "text/plain": [
              "array([24.9613063 , 21.28692715, 29.02550097, 25.62324316, 30.62382485])"
            ]
          },
          "metadata": {},
          "execution_count": 16
        }
      ],
      "source": [
        "# Your code here\n",
        "# BMI means BODY MARS INDEX\n",
        "BMI_array = array_weight_kg / array_height_meters**2\n",
        "BMI_array"
      ]
    },
    {
      "cell_type": "markdown",
      "metadata": {
        "id": "zJvfByPHckdV"
      },
      "source": [
        "## Create a vector of ones the same size as your BMI vector using `np.ones()`"
      ]
    },
    {
      "cell_type": "code",
      "execution_count": 23,
      "metadata": {
        "id": "q028YkuzckdV",
        "outputId": "663e4312-ea15-43a1-9913-1926c1a36352",
        "colab": {
          "base_uri": "https://localhost:8080/"
        }
      },
      "outputs": [
        {
          "output_type": "execute_result",
          "data": {
            "text/plain": [
              "array([[1., 1.],\n",
              "       [1., 1.],\n",
              "       [1., 1.]])"
            ]
          },
          "metadata": {},
          "execution_count": 23
        }
      ],
      "source": [
        "# Your code here\n",
        "identity_1 = np.ones(len(BMI_array))\n",
        "identity"
      ]
    },
    {
      "cell_type": "code",
      "source": [
        "len(BMI_array)"
      ],
      "metadata": {
        "id": "wWLtcX4Ppai_",
        "outputId": "94cfdc2d-af07-41fa-d5df-e88948acf42e",
        "colab": {
          "base_uri": "https://localhost:8080/"
        }
      },
      "execution_count": 15,
      "outputs": [
        {
          "output_type": "execute_result",
          "data": {
            "text/plain": [
              "5"
            ]
          },
          "metadata": {},
          "execution_count": 15
        }
      ]
    },
    {
      "cell_type": "code",
      "source": [
        "identity = np.full(len(BMI_array), 2)\n",
        "identity"
      ],
      "metadata": {
        "id": "5bUoWkMBqGwF",
        "outputId": "5dd40d2a-11df-481f-d755-cdfb08fed88f",
        "colab": {
          "base_uri": "https://localhost:8080/"
        }
      },
      "execution_count": 18,
      "outputs": [
        {
          "output_type": "execute_result",
          "data": {
            "text/plain": [
              "array([2, 2, 2, 2, 2])"
            ]
          },
          "metadata": {},
          "execution_count": 18
        }
      ]
    },
    {
      "cell_type": "code",
      "source": [
        "identity = np.full((3,2), 2)\n",
        "identity"
      ],
      "metadata": {
        "id": "I5-kZKSKqu7o",
        "outputId": "d24ca7ce-7f83-4b1a-d665-26b7a2b2b035",
        "colab": {
          "base_uri": "https://localhost:8080/"
        }
      },
      "execution_count": 19,
      "outputs": [
        {
          "output_type": "execute_result",
          "data": {
            "text/plain": [
              "array([[2, 2],\n",
              "       [2, 2],\n",
              "       [2, 2]])"
            ]
          },
          "metadata": {},
          "execution_count": 19
        }
      ]
    },
    {
      "cell_type": "code",
      "source": [
        "identity = np.ones((3,2))\n",
        "identity"
      ],
      "metadata": {
        "id": "mtMgKaIeq_G8",
        "outputId": "ae0082e0-dbcb-4eac-aee0-8621fc95d434",
        "colab": {
          "base_uri": "https://localhost:8080/"
        }
      },
      "execution_count": 20,
      "outputs": [
        {
          "output_type": "execute_result",
          "data": {
            "text/plain": [
              "array([[1., 1.],\n",
              "       [1., 1.],\n",
              "       [1., 1.]])"
            ]
          },
          "metadata": {},
          "execution_count": 20
        }
      ]
    },
    {
      "cell_type": "markdown",
      "metadata": {
        "id": "TtcrGJK8ckdV"
      },
      "source": [
        "## Multiply the BMI_array by your vector of ones\n",
        "The resulting product should have the same values as your original BMI numpy array."
      ]
    },
    {
      "cell_type": "code",
      "execution_count": 24,
      "metadata": {
        "id": "yqcr3kA3ckdV",
        "outputId": "afd050ff-eab6-4e30-85cb-a54bcdb8f7ae",
        "colab": {
          "base_uri": "https://localhost:8080/"
        }
      },
      "outputs": [
        {
          "output_type": "execute_result",
          "data": {
            "text/plain": [
              "array([24.9613063 , 21.28692715, 29.02550097, 25.62324316, 30.62382485])"
            ]
          },
          "metadata": {},
          "execution_count": 24
        }
      ],
      "source": [
        "# Your code here\n",
        "np.multiply(BMI_array, identity_1)\n"
      ]
    },
    {
      "cell_type": "markdown",
      "metadata": {
        "id": "AO1Ce0NhckdW"
      },
      "source": [
        "## Level Up: Using NumPy to Parse a File\n",
        "The Pandas library that we've been using is built on top of NumPy; all columns/series in a Pandas DataFrame are built using NumPy arrays. To get a better idea of a how a built-in method like `pd.read_csv()` works, we'll try and recreate that here!"
      ]
    },
    {
      "cell_type": "code",
      "execution_count": 36,
      "metadata": {
        "id": "xG3xEz7DckdW",
        "outputId": "02d55d75-7c5d-43e5-ef68-b4b0394a2174",
        "colab": {
          "base_uri": "https://localhost:8080/"
        }
      },
      "outputs": [
        {
          "output_type": "stream",
          "name": "stdout",
          "text": [
            "The file has 21 lines.\n",
            "The file has 8 columns.\n",
            "[[  1.   105.    47.    85.4    1.75   5.1   63.    33.  ]\n",
            " [  2.   115.    49.    94.2    2.1    3.8   70.    14.  ]\n",
            " [  3.   116.    49.    95.3    1.98   8.2   72.    10.  ]\n",
            " [  4.   117.    50.    94.7    2.01   5.8   73.    99.  ]\n",
            " [  5.   112.    51.    89.4    1.89   7.    72.    95.  ]\n",
            " [  6.   121.    48.    99.5    2.25   9.3   71.    10.  ]\n",
            " [  7.   121.    49.    99.8    2.25   2.5   69.    42.  ]\n",
            " [  8.   110.    47.    90.9    1.9    6.2   66.     8.  ]\n",
            " [  9.   110.    49.    89.2    1.83   7.1   69.    62.  ]\n",
            " [ 10.   114.    48.    92.7    2.07   5.6   64.    35.  ]\n",
            " [ 11.   114.    47.    94.4    2.07   5.3   74.    90.  ]\n",
            " [ 12.   115.    49.    94.1    1.98   5.6   71.    21.  ]\n",
            " [ 13.   114.    50.    91.6    2.05  10.2   68.    47.  ]\n",
            " [ 14.   106.    45.    87.1    1.92   5.6   67.    80.  ]\n",
            " [ 15.   125.    52.   101.3    2.19  10.    76.    98.  ]\n",
            " [ 16.   114.    46.    94.5    1.98   7.4   69.    95.  ]\n",
            " [ 17.   106.    46.    87.     1.87   3.6   62.    18.  ]\n",
            " [ 18.   113.    46.    94.5    1.9    4.3   70.    12.  ]\n",
            " [ 19.   110.    48.    90.5    1.88   9.    71.    99.  ]\n",
            " [ 20.   122.    56.    95.7    2.09   7.    75.    99.  ]\n",
            " [  0.     0.     0.     0.     0.     0.     0.     0.  ]]\n"
          ]
        }
      ],
      "source": [
        "# Open a text file (csv files are just plaintext separated by commas)\n",
        "f = open('bp.txt')\n",
        "n_rows = len(f.readlines())\n",
        "# Print number of lines in the file\n",
        "print('The file has {} lines.'.format(n_rows))\n",
        "# After using readlines, we must reopen the file\n",
        "f = open('bp.txt')\n",
        "# The file has values separated by tabs; we read the first line and check it's length\n",
        "n_cols = (len(f.readline().split('\\t')))\n",
        "\n",
        "f = open('bp.txt')\n",
        "print('The file has {} columns.'.format(n_cols))\n",
        "# Pseudocode outline below\n",
        "#1) Create a matrix of zeros that is the same size of the file\n",
        "np.zeros((n_rows, n_cols))\n",
        "#2) Iterate through the file: \"for line in f:\" Hint: using enumerate will also be required\n",
        "f = open('bp.txt')\n",
        "data_matrix = np.zeros((n_rows, n_cols))\n",
        "for i, line in enumerate(f):\n",
        "    #3) Update each row of the matrix with the new stream of data\n",
        "  row_values = line.split('\\t')\n",
        "  np.array(row_values)\n",
        "    #Hint: skip the first row (it's just column names, not the data.)\n",
        "  if i > 0:\n",
        "    data_matrix[i-1] = row_values\n",
        "        #4) Preview your results; you should now have a NumPy matrix with the data from the file\n",
        "print(data_matrix)\n",
        "#4) Preview your results; you should now have a NumPy matrix with the data from the file\n"
      ]
    },
    {
      "cell_type": "markdown",
      "metadata": {
        "id": "296KziJRckdW"
      },
      "source": [
        "## Summary"
      ]
    },
    {
      "cell_type": "markdown",
      "metadata": {
        "id": "aScWnSyRckdW"
      },
      "source": [
        "In this lab, we practiced creating NumPy arrays from both lists and ranges. We then practiced performing math operations like converting imperial measurements to metric measurements on each element of a NumPy array to create new arrays with new values. Finally, we used both of our new NumPy arrays to operate on each other and create new arrays containing the BMIs from our arrays containing heights and weights."
      ]
    }
  ],
  "metadata": {
    "kernelspec": {
      "display_name": "Python 3",
      "language": "python",
      "name": "python3"
    },
    "language_info": {
      "codemirror_mode": {
        "name": "ipython",
        "version": 3
      },
      "file_extension": ".py",
      "mimetype": "text/x-python",
      "name": "python",
      "nbconvert_exporter": "python",
      "pygments_lexer": "ipython3",
      "version": "3.7.3"
    },
    "colab": {
      "provenance": [],
      "include_colab_link": true
    }
  },
  "nbformat": 4,
  "nbformat_minor": 0
}