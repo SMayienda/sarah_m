{
  "nbformat": 4,
  "nbformat_minor": 0,
  "metadata": {
    "colab": {
      "provenance": [],
      "collapsed_sections": [
        "naIR1wSaJC-r",
        "DiDATK5YNXZA"
      ],
      "include_colab_link": true
    },
    "kernelspec": {
      "name": "python3",
      "display_name": "Python 3"
    },
    "language_info": {
      "name": "python"
    }
  },
  "cells": [
    {
      "cell_type": "markdown",
      "metadata": {
        "id": "view-in-github",
        "colab_type": "text"
      },
      "source": [
        "<a href=\"https://colab.research.google.com/github/SMayienda/sarah_m/blob/main/TEAM_SLYTHERIN.ipynb\" target=\"_parent\"><img src=\"https://colab.research.google.com/assets/colab-badge.svg\" alt=\"Open In Colab\"/></a>"
      ]
    },
    {
      "cell_type": "markdown",
      "metadata": {
        "id": "rD2VQD4kWUvm"
      },
      "source": [
        "#### BUSINESS UNDERSTANDING"
      ]
    },
    {
      "cell_type": "markdown",
      "metadata": {
        "id": "Rc8m8eksMrA2"
      },
      "source": [
        "Retailing involves the process of selling merchandise and certain services to customers through multiple supply chains to make a profit. People have been sharing, selling bartering and consuming resources for nearly as long as people have existed. This form of trading has evolved over the years especially after the industrial revolution when retailing really took off. Currently, retail is one of the most important aspects in the chain distribution channel. The most common examples of retailing include globally recognized stores such as Big Mart, Walmart, Target and Best Buy. Retailing also includes small kiosks at a local mall.\n",
        "Big Mart is an international well known brand which has stocks of expansive items, from groceries and soft drinks to tobacco products, magazines and newspapers. With more than 40 outlets in the world, Big Mart is taking over the retail industry. In time, Big Mart will be the most preferred convenience store,  taking into account their excellent customer service and high quality products. Big Mart aims at improving their products and customer service even further, considering the manner in which they highly prioritize customer satisfaction.\n",
        "\n",
        "Big Mart has 1559 products in 10 stores as of 2013 data that need to be critically analyzed to get some insights to aid better decision making.\n",
        "\n",
        "Our main objective is to understand the attributes of products in Big Mart and the attributes of Big Mart outlets which create important insights for decision making.\n",
        "\n"
      ]
    },
    {
      "cell_type": "markdown",
      "metadata": {
        "id": "ZCFADplTVqah"
      },
      "source": [
        "#### DESCRIPTION OF OUR DATASET"
      ]
    },
    {
      "cell_type": "markdown",
      "metadata": {
        "id": "CiefuVShV1tp"
      },
      "source": [
        "ProductID : unique product ID\n",
        "\n",
        "Weight : weight of products\n",
        "\n",
        "FatContent : specifies whether the product is low on fat or not\n",
        "\n",
        "Visibility : percentage of total display area of all products in a store allocated to the particular product.\n",
        "\n",
        "ProductType : the category to which the product belongs.\n",
        "\n",
        "MRP : Maximum Retail Price (listed price) of the products.\n",
        "\n",
        "OutletID : unique store ID.\n",
        "\n",
        "EstablishmentYear : year of establishment of the outlets.\n",
        "\n",
        "OutletSize : the size of the store in terms of ground area covered.\n",
        "\n",
        "LocationType : the type of city in which the store is located.\n",
        "\n",
        "OutletType : specifies whether the outlet is just a grocery store or some sort of supermarket.\n",
        "\n",
        "OutletSales : (target variable) sales of the product in the particular store."
      ]
    },
    {
      "cell_type": "markdown",
      "metadata": {
        "id": "Fo18lHoUNa3a"
      },
      "source": [
        "Importing Libraries"
      ]
    },
    {
      "cell_type": "code",
      "metadata": {
        "id": "9boXkWg9NTY3"
      },
      "source": [
        "# loading the libraries that we will use\n",
        "import pandas as pd\n",
        "import numpy as np\n",
        "import seaborn as sns\n"
      ],
      "execution_count": null,
      "outputs": []
    },
    {
      "cell_type": "markdown",
      "metadata": {
        "id": "4j8hKIIYNm6P"
      },
      "source": [
        "Reading the dataset from the csv file"
      ]
    },
    {
      "cell_type": "code",
      "metadata": {
        "id": "CDEPRmvfh9lE"
      },
      "source": [
        "# Loading our dataset\n",
        "train_set = pd.read_csv('Train-Set.csv')"
      ],
      "execution_count": null,
      "outputs": []
    },
    {
      "cell_type": "markdown",
      "metadata": {
        "id": "OOBpbPqFNycB"
      },
      "source": [
        "Accessing information about our dataset"
      ]
    },
    {
      "cell_type": "code",
      "metadata": {
        "colab": {
          "base_uri": "https://localhost:8080/"
        },
        "id": "wc4wKPZUiVX6",
        "outputId": "068b0e8c-c8fc-43e6-89ae-4c63e93a6dfc"
      },
      "source": [
        "print(train_set.shape)\n",
        "print(train_set.info())"
      ],
      "execution_count": null,
      "outputs": [
        {
          "output_type": "stream",
          "name": "stdout",
          "text": [
            "(8523, 12)\n",
            "<class 'pandas.core.frame.DataFrame'>\n",
            "RangeIndex: 8523 entries, 0 to 8522\n",
            "Data columns (total 12 columns):\n",
            " #   Column             Non-Null Count  Dtype  \n",
            "---  ------             --------------  -----  \n",
            " 0   ProductID          8523 non-null   object \n",
            " 1   Weight             7060 non-null   float64\n",
            " 2   FatContent         8523 non-null   object \n",
            " 3   ProductVisibility  8523 non-null   float64\n",
            " 4   ProductType        8523 non-null   object \n",
            " 5   MRP                8523 non-null   float64\n",
            " 6   OutletID           8523 non-null   object \n",
            " 7   EstablishmentYear  8523 non-null   int64  \n",
            " 8   OutletSize         6113 non-null   object \n",
            " 9   LocationType       8523 non-null   object \n",
            " 10  OutletType         8523 non-null   object \n",
            " 11  OutletSales        8523 non-null   float64\n",
            "dtypes: float64(4), int64(1), object(7)\n",
            "memory usage: 799.2+ KB\n",
            "None\n"
          ]
        }
      ]
    },
    {
      "cell_type": "markdown",
      "metadata": {
        "id": "nHZLoPdVAA4m"
      },
      "source": [
        "# Data Cleaning"
      ]
    },
    {
      "cell_type": "markdown",
      "metadata": {
        "id": "Yk_FM5BSABA5"
      },
      "source": [
        "Validity"
      ]
    },
    {
      "cell_type": "code",
      "metadata": {
        "id": "ss5D_cHoAK08"
      },
      "source": [
        "# Dropping irrelevant column\n",
        "# Weight column does not directly affect the MRP and therefore it does not affect the outlet sales.\n",
        "\n",
        "train_set.drop(['Weight'], axis = 1, inplace = True)"
      ],
      "execution_count": null,
      "outputs": []
    },
    {
      "cell_type": "markdown",
      "metadata": {
        "id": "RQDA5_lnBGWd"
      },
      "source": [
        "Completeness"
      ]
    },
    {
      "cell_type": "code",
      "metadata": {
        "id": "DI5m9I2nALAL",
        "colab": {
          "base_uri": "https://localhost:8080/"
        },
        "outputId": "f5f96055-c8b2-45a8-c90f-262ea45e0b8a"
      },
      "source": [
        "# Checking for null values\n",
        "train_set.isnull().sum()"
      ],
      "execution_count": null,
      "outputs": [
        {
          "output_type": "execute_result",
          "data": {
            "text/plain": [
              "ProductID               0\n",
              "FatContent              0\n",
              "ProductVisibility       0\n",
              "ProductType             0\n",
              "MRP                     0\n",
              "OutletID                0\n",
              "EstablishmentYear       0\n",
              "OutletSize           2410\n",
              "LocationType            0\n",
              "OutletType              0\n",
              "OutletSales             0\n",
              "dtype: int64"
            ]
          },
          "metadata": {},
          "execution_count": 58
        }
      ]
    },
    {
      "cell_type": "code",
      "metadata": {
        "id": "Iz72-YxwALTQ",
        "colab": {
          "base_uri": "https://localhost:8080/",
          "height": 313
        },
        "outputId": "291658bd-0b10-49bf-9da5-1ba904303465"
      },
      "source": [
        "# Data Action: replacing missing values with a dash\n",
        "# Explanation: the missing values from outlet size column are important so we replaced the missing values with a dash\n",
        "\n",
        "train_set['OutletSize'].fillna('Other', inplace= True)\n",
        "\n",
        "train_set.head(5)\n"
      ],
      "execution_count": null,
      "outputs": [
        {
          "output_type": "execute_result",
          "data": {
            "text/html": [
              "<div>\n",
              "<style scoped>\n",
              "    .dataframe tbody tr th:only-of-type {\n",
              "        vertical-align: middle;\n",
              "    }\n",
              "\n",
              "    .dataframe tbody tr th {\n",
              "        vertical-align: top;\n",
              "    }\n",
              "\n",
              "    .dataframe thead th {\n",
              "        text-align: right;\n",
              "    }\n",
              "</style>\n",
              "<table border=\"1\" class=\"dataframe\">\n",
              "  <thead>\n",
              "    <tr style=\"text-align: right;\">\n",
              "      <th></th>\n",
              "      <th>ProductID</th>\n",
              "      <th>FatContent</th>\n",
              "      <th>ProductVisibility</th>\n",
              "      <th>ProductType</th>\n",
              "      <th>MRP</th>\n",
              "      <th>OutletID</th>\n",
              "      <th>EstablishmentYear</th>\n",
              "      <th>OutletSize</th>\n",
              "      <th>LocationType</th>\n",
              "      <th>OutletType</th>\n",
              "      <th>OutletSales</th>\n",
              "    </tr>\n",
              "  </thead>\n",
              "  <tbody>\n",
              "    <tr>\n",
              "      <th>0</th>\n",
              "      <td>FDA15</td>\n",
              "      <td>Low Fat</td>\n",
              "      <td>0.016047</td>\n",
              "      <td>Dairy</td>\n",
              "      <td>249.8092</td>\n",
              "      <td>OUT049</td>\n",
              "      <td>1999</td>\n",
              "      <td>Medium</td>\n",
              "      <td>Tier 1</td>\n",
              "      <td>Supermarket Type1</td>\n",
              "      <td>3735.1380</td>\n",
              "    </tr>\n",
              "    <tr>\n",
              "      <th>1</th>\n",
              "      <td>DRC01</td>\n",
              "      <td>Regular</td>\n",
              "      <td>0.019278</td>\n",
              "      <td>Soft Drinks</td>\n",
              "      <td>48.2692</td>\n",
              "      <td>OUT018</td>\n",
              "      <td>2009</td>\n",
              "      <td>Medium</td>\n",
              "      <td>Tier 3</td>\n",
              "      <td>Supermarket Type2</td>\n",
              "      <td>443.4228</td>\n",
              "    </tr>\n",
              "    <tr>\n",
              "      <th>2</th>\n",
              "      <td>FDN15</td>\n",
              "      <td>Low Fat</td>\n",
              "      <td>0.016760</td>\n",
              "      <td>Meat</td>\n",
              "      <td>141.6180</td>\n",
              "      <td>OUT049</td>\n",
              "      <td>1999</td>\n",
              "      <td>Medium</td>\n",
              "      <td>Tier 1</td>\n",
              "      <td>Supermarket Type1</td>\n",
              "      <td>2097.2700</td>\n",
              "    </tr>\n",
              "    <tr>\n",
              "      <th>3</th>\n",
              "      <td>FDX07</td>\n",
              "      <td>Regular</td>\n",
              "      <td>0.000000</td>\n",
              "      <td>Fruits and Vegetables</td>\n",
              "      <td>182.0950</td>\n",
              "      <td>OUT010</td>\n",
              "      <td>1998</td>\n",
              "      <td>Other</td>\n",
              "      <td>Tier 3</td>\n",
              "      <td>Grocery Store</td>\n",
              "      <td>732.3800</td>\n",
              "    </tr>\n",
              "    <tr>\n",
              "      <th>4</th>\n",
              "      <td>NCD19</td>\n",
              "      <td>Low Fat</td>\n",
              "      <td>0.000000</td>\n",
              "      <td>Household</td>\n",
              "      <td>53.8614</td>\n",
              "      <td>OUT013</td>\n",
              "      <td>1987</td>\n",
              "      <td>High</td>\n",
              "      <td>Tier 3</td>\n",
              "      <td>Supermarket Type1</td>\n",
              "      <td>994.7052</td>\n",
              "    </tr>\n",
              "  </tbody>\n",
              "</table>\n",
              "</div>"
            ],
            "text/plain": [
              "  ProductID FatContent  ...         OutletType OutletSales\n",
              "0     FDA15    Low Fat  ...  Supermarket Type1   3735.1380\n",
              "1     DRC01    Regular  ...  Supermarket Type2    443.4228\n",
              "2     FDN15    Low Fat  ...  Supermarket Type1   2097.2700\n",
              "3     FDX07    Regular  ...      Grocery Store    732.3800\n",
              "4     NCD19    Low Fat  ...  Supermarket Type1    994.7052\n",
              "\n",
              "[5 rows x 11 columns]"
            ]
          },
          "metadata": {},
          "execution_count": 59
        }
      ]
    },
    {
      "cell_type": "code",
      "metadata": {
        "colab": {
          "base_uri": "https://localhost:8080/"
        },
        "id": "cc_hByT8HDcn",
        "outputId": "3c9f24fc-0c31-4ce1-e77f-d4ab07ba3294"
      },
      "source": [
        "# checking if we have replaced our null values\n",
        "\n",
        "train_set.isnull().sum().sum()"
      ],
      "execution_count": null,
      "outputs": [
        {
          "output_type": "execute_result",
          "data": {
            "text/plain": [
              "0"
            ]
          },
          "metadata": {},
          "execution_count": 60
        }
      ]
    },
    {
      "cell_type": "markdown",
      "metadata": {
        "id": "6aXDjxPsH1jx"
      },
      "source": [
        "Accuracy"
      ]
    },
    {
      "cell_type": "code",
      "metadata": {
        "colab": {
          "base_uri": "https://localhost:8080/"
        },
        "id": "gEJHPhOjH0QP",
        "outputId": "f7a27b12-3eee-42f8-f5dc-81b6af3987cd"
      },
      "source": [
        "# Checking for duplicates\n",
        "train_set.duplicated().sum()"
      ],
      "execution_count": null,
      "outputs": [
        {
          "output_type": "execute_result",
          "data": {
            "text/plain": [
              "0"
            ]
          },
          "metadata": {},
          "execution_count": 61
        }
      ]
    },
    {
      "cell_type": "markdown",
      "metadata": {
        "id": "RYK93B-pH9LC"
      },
      "source": [
        "Uniformity"
      ]
    },
    {
      "cell_type": "code",
      "metadata": {
        "colab": {
          "base_uri": "https://localhost:8080/",
          "height": 313
        },
        "id": "ZtIpcgXxH0S4",
        "outputId": "97ca4053-b683-491a-d2f4-18980050e890"
      },
      "source": [
        "# changing the column names to lower case.\n",
        "\n",
        "train_set.columns=train_set.columns.str.strip().str.lower()\n",
        "train_set.head(5)"
      ],
      "execution_count": null,
      "outputs": [
        {
          "output_type": "execute_result",
          "data": {
            "text/html": [
              "<div>\n",
              "<style scoped>\n",
              "    .dataframe tbody tr th:only-of-type {\n",
              "        vertical-align: middle;\n",
              "    }\n",
              "\n",
              "    .dataframe tbody tr th {\n",
              "        vertical-align: top;\n",
              "    }\n",
              "\n",
              "    .dataframe thead th {\n",
              "        text-align: right;\n",
              "    }\n",
              "</style>\n",
              "<table border=\"1\" class=\"dataframe\">\n",
              "  <thead>\n",
              "    <tr style=\"text-align: right;\">\n",
              "      <th></th>\n",
              "      <th>productid</th>\n",
              "      <th>fatcontent</th>\n",
              "      <th>productvisibility</th>\n",
              "      <th>producttype</th>\n",
              "      <th>mrp</th>\n",
              "      <th>outletid</th>\n",
              "      <th>establishmentyear</th>\n",
              "      <th>outletsize</th>\n",
              "      <th>locationtype</th>\n",
              "      <th>outlettype</th>\n",
              "      <th>outletsales</th>\n",
              "    </tr>\n",
              "  </thead>\n",
              "  <tbody>\n",
              "    <tr>\n",
              "      <th>0</th>\n",
              "      <td>FDA15</td>\n",
              "      <td>Low Fat</td>\n",
              "      <td>0.016047</td>\n",
              "      <td>Dairy</td>\n",
              "      <td>249.8092</td>\n",
              "      <td>OUT049</td>\n",
              "      <td>1999</td>\n",
              "      <td>Medium</td>\n",
              "      <td>Tier 1</td>\n",
              "      <td>Supermarket Type1</td>\n",
              "      <td>3735.1380</td>\n",
              "    </tr>\n",
              "    <tr>\n",
              "      <th>1</th>\n",
              "      <td>DRC01</td>\n",
              "      <td>Regular</td>\n",
              "      <td>0.019278</td>\n",
              "      <td>Soft Drinks</td>\n",
              "      <td>48.2692</td>\n",
              "      <td>OUT018</td>\n",
              "      <td>2009</td>\n",
              "      <td>Medium</td>\n",
              "      <td>Tier 3</td>\n",
              "      <td>Supermarket Type2</td>\n",
              "      <td>443.4228</td>\n",
              "    </tr>\n",
              "    <tr>\n",
              "      <th>2</th>\n",
              "      <td>FDN15</td>\n",
              "      <td>Low Fat</td>\n",
              "      <td>0.016760</td>\n",
              "      <td>Meat</td>\n",
              "      <td>141.6180</td>\n",
              "      <td>OUT049</td>\n",
              "      <td>1999</td>\n",
              "      <td>Medium</td>\n",
              "      <td>Tier 1</td>\n",
              "      <td>Supermarket Type1</td>\n",
              "      <td>2097.2700</td>\n",
              "    </tr>\n",
              "    <tr>\n",
              "      <th>3</th>\n",
              "      <td>FDX07</td>\n",
              "      <td>Regular</td>\n",
              "      <td>0.000000</td>\n",
              "      <td>Fruits and Vegetables</td>\n",
              "      <td>182.0950</td>\n",
              "      <td>OUT010</td>\n",
              "      <td>1998</td>\n",
              "      <td>Other</td>\n",
              "      <td>Tier 3</td>\n",
              "      <td>Grocery Store</td>\n",
              "      <td>732.3800</td>\n",
              "    </tr>\n",
              "    <tr>\n",
              "      <th>4</th>\n",
              "      <td>NCD19</td>\n",
              "      <td>Low Fat</td>\n",
              "      <td>0.000000</td>\n",
              "      <td>Household</td>\n",
              "      <td>53.8614</td>\n",
              "      <td>OUT013</td>\n",
              "      <td>1987</td>\n",
              "      <td>High</td>\n",
              "      <td>Tier 3</td>\n",
              "      <td>Supermarket Type1</td>\n",
              "      <td>994.7052</td>\n",
              "    </tr>\n",
              "  </tbody>\n",
              "</table>\n",
              "</div>"
            ],
            "text/plain": [
              "  productid fatcontent  ...         outlettype outletsales\n",
              "0     FDA15    Low Fat  ...  Supermarket Type1   3735.1380\n",
              "1     DRC01    Regular  ...  Supermarket Type2    443.4228\n",
              "2     FDN15    Low Fat  ...  Supermarket Type1   2097.2700\n",
              "3     FDX07    Regular  ...      Grocery Store    732.3800\n",
              "4     NCD19    Low Fat  ...  Supermarket Type1    994.7052\n",
              "\n",
              "[5 rows x 11 columns]"
            ]
          },
          "metadata": {},
          "execution_count": 62
        }
      ]
    },
    {
      "cell_type": "code",
      "metadata": {
        "colab": {
          "base_uri": "https://localhost:8080/"
        },
        "id": "1PPQjijJZbyu",
        "outputId": "9e8cd0d6-b24d-45cc-8c79-c8f71c882a14"
      },
      "source": [
        "# Data Action: Checking the uniformity in column values\n",
        "# Uniformity in categorical values improves the acurracy of analysis\n",
        "\n",
        "print(train_set['fatcontent'].unique())\n",
        "\n",
        "train_set['fatcontent']= train_set.fatcontent.str.replace('low fat', 'Low Fat').str.replace('LF', 'Low Fat').str.replace('reg', 'Regular')\n",
        "print(train_set['fatcontent'].unique())"
      ],
      "execution_count": null,
      "outputs": [
        {
          "output_type": "stream",
          "name": "stdout",
          "text": [
            "['Low Fat' 'Regular' 'low fat' 'LF' 'reg']\n",
            "['Low Fat' 'Regular']\n"
          ]
        }
      ]
    },
    {
      "cell_type": "code",
      "metadata": {
        "id": "e1G25uwGZb9W"
      },
      "source": [
        "# Data Action: changing the column names\n",
        "# Explanation: to ensure uniformity and easy access to the columns.\n",
        "\n",
        "train_set.rename(columns={'productid':'product_id', 'fatcontent':'fat_content', 'productvisibility':'product_visibility',\n",
        "                          'producttype':'product_type', 'mrp':'mrp', 'outletid':'outlet_id', 'establishmentyear':'establishment_year',\n",
        "                          'outletsize':'outlet_size', 'locationtype':'location_type', 'outlettype':'outlet_type', 'outletsales':'outlet_sales'}, inplace=True)\n",
        ""
      ],
      "execution_count": null,
      "outputs": []
    },
    {
      "cell_type": "code",
      "metadata": {
        "colab": {
          "base_uri": "https://localhost:8080/"
        },
        "id": "wKmZmAYVapqE",
        "outputId": "12d78d17-5bee-45a2-ca8f-3f235424419a"
      },
      "source": [
        "# Data Action: changing the establishment year column to datetime\n",
        "# Explanation: the data type for year is date.\n",
        "\n",
        "train_set['establishment_year']=pd.to_datetime(train_set['establishment_year'], format='%Y')\n",
        "\n",
        "train_set.info()"
      ],
      "execution_count": null,
      "outputs": [
        {
          "output_type": "stream",
          "name": "stdout",
          "text": [
            "<class 'pandas.core.frame.DataFrame'>\n",
            "RangeIndex: 8523 entries, 0 to 8522\n",
            "Data columns (total 11 columns):\n",
            " #   Column              Non-Null Count  Dtype         \n",
            "---  ------              --------------  -----         \n",
            " 0   product_id          8523 non-null   object        \n",
            " 1   fat_content         8523 non-null   object        \n",
            " 2   product_visibility  8523 non-null   float64       \n",
            " 3   product_type        8523 non-null   object        \n",
            " 4   mrp                 8523 non-null   float64       \n",
            " 5   outlet_id           8523 non-null   object        \n",
            " 6   establishment_year  8523 non-null   datetime64[ns]\n",
            " 7   outlet_size         8523 non-null   object        \n",
            " 8   location_type       8523 non-null   object        \n",
            " 9   outlet_type         8523 non-null   object        \n",
            " 10  outlet_sales        8523 non-null   float64       \n",
            "dtypes: datetime64[ns](1), float64(3), object(7)\n",
            "memory usage: 732.6+ KB\n"
          ]
        }
      ]
    },
    {
      "cell_type": "code",
      "metadata": {
        "id": "87f2BDOWbHuc"
      },
      "source": [
        "# Data Action: converting our outlet sales and mrp column values to integers\n",
        "# Explanation: floats create complex number in the analysis\n",
        "\n",
        "train_set = train_set.astype({'outlet_sales':int, 'mrp': int})"
      ],
      "execution_count": null,
      "outputs": []
    },
    {
      "cell_type": "markdown",
      "metadata": {
        "id": "T1DYzGVoIRVU"
      },
      "source": [
        "Checking for outliers"
      ]
    },
    {
      "cell_type": "code",
      "metadata": {
        "id": "cz_-Y37NH0V1"
      },
      "source": [
        "# importing the required library\n",
        "\n",
        "import matplotlib.pyplot as plt\n",
        "% matplotlib inline"
      ],
      "execution_count": null,
      "outputs": []
    },
    {
      "cell_type": "code",
      "metadata": {
        "colab": {
          "base_uri": "https://localhost:8080/",
          "height": 297
        },
        "id": "icnVVDv1Icz6",
        "outputId": "7785a26b-2a3f-4fc3-955d-b79104451c0b"
      },
      "source": [
        "# Checking for outliers in the product visibility column\n",
        "\n",
        "#train_set.boxplot(column =['product_visibility'], grid = False)\n",
        "\n",
        "# Checking where outliers lie the most.\n",
        "# Grocery outlets have the outliers on product visibility\n",
        "#sns_trainset = sns.load_dataset(train_set)\n",
        "sns.scatterplot(data= train_set, x= \"outlet_type\", y=\"product_visibility\")"
      ],
      "execution_count": null,
      "outputs": [
        {
          "output_type": "execute_result",
          "data": {
            "text/plain": [
              "<matplotlib.axes._subplots.AxesSubplot at 0x7f50b8161b50>"
            ]
          },
          "metadata": {},
          "execution_count": 68
        },
        {
          "output_type": "display_data",
          "data": {
            "image/png": "[encoded data removed]",
            "text/plain": [
              "<Figure size 432x288 with 1 Axes>"
            ]
          },
          "metadata": {
            "needs_background": "light"
          }
        }
      ]
    },
    {
      "cell_type": "code",
      "metadata": {
        "colab": {
          "base_uri": "https://localhost:8080/",
          "height": 282
        },
        "id": "oD5fsxYqIc-k",
        "outputId": "169bf0a2-8e6f-4560-8fca-2a33836c7bc8"
      },
      "source": [
        "# checking for outliers in the mrp column\n",
        "\n",
        "train_set.boxplot(column=['mrp'], grid = False)"
      ],
      "execution_count": null,
      "outputs": [
        {
          "output_type": "execute_result",
          "data": {
            "text/plain": [
              "<matplotlib.axes._subplots.AxesSubplot at 0x7f50b80d0650>"
            ]
          },
          "metadata": {},
          "execution_count": 69
        },
        {
          "output_type": "display_data",
          "data": {
            "image/png": "[encoded data removed]",
            "text/plain": [
              "<Figure size 432x288 with 1 Axes>"
            ]
          },
          "metadata": {
            "needs_background": "light"
          }
        }
      ]
    },
    {
      "cell_type": "code",
      "metadata": {
        "colab": {
          "base_uri": "https://localhost:8080/",
          "height": 283
        },
        "id": "1Fa_tFjoIdcY",
        "outputId": "7afacb2c-a843-473e-fe17-a86a4a5b2604"
      },
      "source": [
        "# checking for outliers in the outlet sales column\n",
        "\n",
        "train_set.boxplot(column=['outlet_sales'], grid=False)"
      ],
      "execution_count": null,
      "outputs": [
        {
          "output_type": "execute_result",
          "data": {
            "text/plain": [
              "<matplotlib.axes._subplots.AxesSubplot at 0x7f50b8035150>"
            ]
          },
          "metadata": {},
          "execution_count": 70
        },
        {
          "output_type": "display_data",
          "data": {
            "image/png": "[encoded data removed]",
            "text/plain": [
              "<Figure size 432x288 with 1 Axes>"
            ]
          },
          "metadata": {
            "needs_background": "light"
          }
        }
      ]
    },
    {
      "cell_type": "markdown",
      "metadata": {
        "id": "dYQwGErTIy9K"
      },
      "source": [
        "Exporting our dataset"
      ]
    },
    {
      "cell_type": "code",
      "metadata": {
        "id": "TvhmH2MtIw0D"
      },
      "source": [
        "#Exporting our cleaned dataset\n",
        "train_set.to_csv('new_train_set.csv')"
      ],
      "execution_count": null,
      "outputs": []
    },
    {
      "cell_type": "markdown",
      "metadata": {
        "id": "naIR1wSaJC-r"
      },
      "source": [
        " # DATA ANALYSIS WITH SQL"
      ]
    },
    {
      "cell_type": "markdown",
      "metadata": {
        "id": "_47cxVK0Jcjt"
      },
      "source": [
        "Connecting to our database"
      ]
    },
    {
      "cell_type": "code",
      "metadata": {
        "colab": {
          "base_uri": "https://localhost:8080/"
        },
        "id": "1VuXp6OsJB_D",
        "outputId": "be97d1dc-f88a-40ce-8fe9-d47bfeadedf3"
      },
      "source": [
        "# loading the sql extension into our environment\n",
        "\n",
        "%load_ext sql\n",
        "%sql sqlite://"
      ],
      "execution_count": null,
      "outputs": [
        {
          "output_type": "stream",
          "name": "stdout",
          "text": [
            "The sql extension is already loaded. To reload it, use:\n",
            "  %reload_ext sql\n"
          ]
        },
        {
          "output_type": "execute_result",
          "data": {
            "application/vnd.google.colaboratory.intrinsic+json": {
              "type": "string"
            },
            "text/plain": [
              "'Connected: @None'"
            ]
          },
          "metadata": {},
          "execution_count": 72
        }
      ]
    },
    {
      "cell_type": "markdown",
      "metadata": {
        "id": "YB1KZSTGMDoS"
      },
      "source": [
        "Importing Data from CSV files"
      ]
    },
    {
      "cell_type": "code",
      "metadata": {
        "id": "sNdB6BfeiudF"
      },
      "source": [
        "# Importing the pandas library\n",
        "# We will use a function read_csv from pandas to read our datasets as shown\n",
        "#\n",
        "import pandas as pd"
      ],
      "execution_count": null,
      "outputs": []
    },
    {
      "cell_type": "code",
      "metadata": {
        "colab": {
          "base_uri": "https://localhost:8080/"
        },
        "id": "F6jekscmvl3U",
        "outputId": "4a130769-2d0c-4e81-edc2-88422eab89ba"
      },
      "source": [
        "# loading our csv dataset\n",
        "\n",
        "with open('new_train_set.csv', 'r') as f:\n",
        "  new_train_set=pd.read_csv(f, index_col=0, encoding='utf-8')\n",
        "\n",
        "# storing the table in our sqlite database\n",
        "\n",
        "%sql DROP TABLE IF EXISTS new_train_set\n",
        "%sql PERSIST new_train_set;"
      ],
      "execution_count": null,
      "outputs": [
        {
          "output_type": "stream",
          "name": "stdout",
          "text": [
            " * sqlite://\n",
            "Done.\n",
            " * sqlite://\n"
          ]
        },
        {
          "output_type": "execute_result",
          "data": {
            "application/vnd.google.colaboratory.intrinsic+json": {
              "type": "string"
            },
            "text/plain": [
              "'Persisted new_train_set'"
            ]
          },
          "metadata": {},
          "execution_count": 74
        }
      ]
    },
    {
      "cell_type": "markdown",
      "metadata": {
        "id": "eEytwnJxMZto"
      },
      "source": [
        "Previewing our dataset"
      ]
    },
    {
      "cell_type": "code",
      "metadata": {
        "id": "SLFJqAz0cy__",
        "colab": {
          "base_uri": "https://localhost:8080/"
        },
        "outputId": "c1f1dde0-be13-46f0-9ccb-549a6091dfa0"
      },
      "source": [
        "%%sql\n",
        "SELECT * FROM new_train_set LIMIT 10;"
      ],
      "execution_count": null,
      "outputs": [
        {
          "output_type": "stream",
          "name": "stdout",
          "text": [
            " * sqlite://\n",
            "Done.\n"
          ]
        },
        {
          "output_type": "execute_result",
          "data": {
            "text/html": [
              "<table>\n",
              "    <thead>\n",
              "        <tr>\n",
              "            <th>index</th>\n",
              "            <th>product_id</th>\n",
              "            <th>fat_content</th>\n",
              "            <th>product_visibility</th>\n",
              "            <th>product_type</th>\n",
              "            <th>mrp</th>\n",
              "            <th>outlet_id</th>\n",
              "            <th>establishment_year</th>\n",
              "            <th>outlet_size</th>\n",
              "            <th>location_type</th>\n",
              "            <th>outlet_type</th>\n",
              "            <th>outlet_sales</th>\n",
              "        </tr>\n",
              "    </thead>\n",
              "    <tbody>\n",
              "        <tr>\n",
              "            <td>0</td>\n",
              "            <td>FDA15</td>\n",
              "            <td>Low Fat</td>\n",
              "            <td>0.016047301</td>\n",
              "            <td>Dairy</td>\n",
              "            <td>249</td>\n",
              "            <td>OUT049</td>\n",
              "            <td>1999-01-01</td>\n",
              "            <td>Medium</td>\n",
              "            <td>Tier 1</td>\n",
              "            <td>Supermarket Type1</td>\n",
              "            <td>3735</td>\n",
              "        </tr>\n",
              "        <tr>\n",
              "            <td>1</td>\n",
              "            <td>DRC01</td>\n",
              "            <td>Regular</td>\n",
              "            <td>0.019278216</td>\n",
              "            <td>Soft Drinks</td>\n",
              "            <td>48</td>\n",
              "            <td>OUT018</td>\n",
              "            <td>2009-01-01</td>\n",
              "            <td>Medium</td>\n",
              "            <td>Tier 3</td>\n",
              "            <td>Supermarket Type2</td>\n",
              "            <td>443</td>\n",
              "        </tr>\n",
              "        <tr>\n",
              "            <td>2</td>\n",
              "            <td>FDN15</td>\n",
              "            <td>Low Fat</td>\n",
              "            <td>0.016760075</td>\n",
              "            <td>Meat</td>\n",
              "            <td>141</td>\n",
              "            <td>OUT049</td>\n",
              "            <td>1999-01-01</td>\n",
              "            <td>Medium</td>\n",
              "            <td>Tier 1</td>\n",
              "            <td>Supermarket Type1</td>\n",
              "            <td>2097</td>\n",
              "        </tr>\n",
              "        <tr>\n",
              "            <td>3</td>\n",
              "            <td>FDX07</td>\n",
              "            <td>Regular</td>\n",
              "            <td>0.0</td>\n",
              "            <td>Fruits and Vegetables</td>\n",
              "            <td>182</td>\n",
              "            <td>OUT010</td>\n",
              "            <td>1998-01-01</td>\n",
              "            <td>Other</td>\n",
              "            <td>Tier 3</td>\n",
              "            <td>Grocery Store</td>\n",
              "            <td>732</td>\n",
              "        </tr>\n",
              "        <tr>\n",
              "            <td>4</td>\n",
              "            <td>NCD19</td>\n",
              "            <td>Low Fat</td>\n",
              "            <td>0.0</td>\n",
              "            <td>Household</td>\n",
              "            <td>53</td>\n",
              "            <td>OUT013</td>\n",
              "            <td>1987-01-01</td>\n",
              "            <td>High</td>\n",
              "            <td>Tier 3</td>\n",
              "            <td>Supermarket Type1</td>\n",
              "            <td>994</td>\n",
              "        </tr>\n",
              "        <tr>\n",
              "            <td>5</td>\n",
              "            <td>FDP36</td>\n",
              "            <td>Regular</td>\n",
              "            <td>0.0</td>\n",
              "            <td>Baking Goods</td>\n",
              "            <td>51</td>\n",
              "            <td>OUT018</td>\n",
              "            <td>2009-01-01</td>\n",
              "            <td>Medium</td>\n",
              "            <td>Tier 3</td>\n",
              "            <td>Supermarket Type2</td>\n",
              "            <td>556</td>\n",
              "        </tr>\n",
              "        <tr>\n",
              "            <td>6</td>\n",
              "            <td>FDO10</td>\n",
              "            <td>Regular</td>\n",
              "            <td>0.012741089</td>\n",
              "            <td>Snack Foods</td>\n",
              "            <td>57</td>\n",
              "            <td>OUT013</td>\n",
              "            <td>1987-01-01</td>\n",
              "            <td>High</td>\n",
              "            <td>Tier 3</td>\n",
              "            <td>Supermarket Type1</td>\n",
              "            <td>343</td>\n",
              "        </tr>\n",
              "        <tr>\n",
              "            <td>7</td>\n",
              "            <td>FDP10</td>\n",
              "            <td>Low Fat</td>\n",
              "            <td>0.127469857</td>\n",
              "            <td>Snack Foods</td>\n",
              "            <td>107</td>\n",
              "            <td>OUT027</td>\n",
              "            <td>1985-01-01</td>\n",
              "            <td>Medium</td>\n",
              "            <td>Tier 3</td>\n",
              "            <td>Supermarket Type3</td>\n",
              "            <td>4022</td>\n",
              "        </tr>\n",
              "        <tr>\n",
              "            <td>8</td>\n",
              "            <td>FDH17</td>\n",
              "            <td>Regular</td>\n",
              "            <td>0.016687114</td>\n",
              "            <td>Frozen Foods</td>\n",
              "            <td>96</td>\n",
              "            <td>OUT045</td>\n",
              "            <td>2002-01-01</td>\n",
              "            <td>Other</td>\n",
              "            <td>Tier 2</td>\n",
              "            <td>Supermarket Type1</td>\n",
              "            <td>1076</td>\n",
              "        </tr>\n",
              "        <tr>\n",
              "            <td>9</td>\n",
              "            <td>FDU28</td>\n",
              "            <td>Regular</td>\n",
              "            <td>0.09444959</td>\n",
              "            <td>Frozen Foods</td>\n",
              "            <td>187</td>\n",
              "            <td>OUT017</td>\n",
              "            <td>2007-01-01</td>\n",
              "            <td>Other</td>\n",
              "            <td>Tier 2</td>\n",
              "            <td>Supermarket Type1</td>\n",
              "            <td>4710</td>\n",
              "        </tr>\n",
              "    </tbody>\n",
              "</table>"
            ],
            "text/plain": [
              "[(0, 'FDA15', 'Low Fat', 0.016047301, 'Dairy', 249, 'OUT049', '1999-01-01', 'Medium', 'Tier 1', 'Supermarket Type1', 3735),\n",
              " (1, 'DRC01', 'Regular', 0.019278216, 'Soft Drinks', 48, 'OUT018', '2009-01-01', 'Medium', 'Tier 3', 'Supermarket Type2', 443),\n",
              " (2, 'FDN15', 'Low Fat', 0.016760075, 'Meat', 141, 'OUT049', '1999-01-01', 'Medium', 'Tier 1', 'Supermarket Type1', 2097),\n",
              " (3, 'FDX07', 'Regular', 0.0, 'Fruits and Vegetables', 182, 'OUT010', '1998-01-01', 'Other', 'Tier 3', 'Grocery Store', 732),\n",
              " (4, 'NCD19', 'Low Fat', 0.0, 'Household', 53, 'OUT013', '1987-01-01', 'High', 'Tier 3', 'Supermarket Type1', 994),\n",
              " (5, 'FDP36', 'Regular', 0.0, 'Baking Goods', 51, 'OUT018', '2009-01-01', 'Medium', 'Tier 3', 'Supermarket Type2', 556),\n",
              " (6, 'FDO10', 'Regular', 0.012741089, 'Snack Foods', 57, 'OUT013', '1987-01-01', 'High', 'Tier 3', 'Supermarket Type1', 343),\n",
              " (7, 'FDP10', 'Low Fat', 0.127469857, 'Snack Foods', 107, 'OUT027', '1985-01-01', 'Medium', 'Tier 3', 'Supermarket Type3', 4022),\n",
              " (8, 'FDH17', 'Regular', 0.016687114, 'Frozen Foods', 96, 'OUT045', '2002-01-01', 'Other', 'Tier 2', 'Supermarket Type1', 1076),\n",
              " (9, 'FDU28', 'Regular', 0.09444959, 'Frozen Foods', 187, 'OUT017', '2007-01-01', 'Other', 'Tier 2', 'Supermarket Type1', 4710)]"
            ]
          },
          "metadata": {},
          "execution_count": 75
        }
      ]
    },
    {
      "cell_type": "markdown",
      "metadata": {
        "id": "DiDATK5YNXZA"
      },
      "source": [
        "# Answering the specific objectives of the project"
      ]
    },
    {
      "cell_type": "markdown",
      "metadata": {
        "id": "nw9wh52UUhlW"
      },
      "source": [
        "The most sold product? What was the total sales?"
      ]
    },
    {
      "cell_type": "code",
      "metadata": {
        "colab": {
          "base_uri": "https://localhost:8080/"
        },
        "id": "-W_Gy2MwMnYt",
        "outputId": "77d8ce8e-0d11-44f4-cf7e-31c01625cca5"
      },
      "source": [
        "%%sql\n",
        "SELECT product_type, sum(outlet_sales) FROM new_train_set\n",
        "GROUP BY product_type\n",
        "ORDER BY sum(outlet_sales) desc\n",
        "LIMIT 1;"
      ],
      "execution_count": null,
      "outputs": [
        {
          "output_type": "stream",
          "name": "stdout",
          "text": [
            " * sqlite://\n",
            "Done.\n"
          ]
        },
        {
          "output_type": "execute_result",
          "data": {
            "text/html": [
              "<table>\n",
              "    <thead>\n",
              "        <tr>\n",
              "            <th>product_type</th>\n",
              "            <th>sum(outlet_sales)</th>\n",
              "        </tr>\n",
              "    </thead>\n",
              "    <tbody>\n",
              "        <tr>\n",
              "            <td>Fruits and Vegetables</td>\n",
              "            <td>2819435</td>\n",
              "        </tr>\n",
              "    </tbody>\n",
              "</table>"
            ],
            "text/plain": [
              "[('Fruits and Vegetables', 2819435)]"
            ]
          },
          "metadata": {},
          "execution_count": 76
        }
      ]
    },
    {
      "cell_type": "markdown",
      "metadata": {
        "id": "yemZaFIAU4-M"
      },
      "source": [
        "Which type of  fat content product has the most sales? What was the total sales?"
      ]
    },
    {
      "cell_type": "code",
      "metadata": {
        "colab": {
          "base_uri": "https://localhost:8080/"
        },
        "id": "5sV7a1UsUt17",
        "outputId": "3f739ff5-3b10-44e6-d687-215ff44fc067"
      },
      "source": [
        "%%sql\n",
        "SELECT fat_content, SUM(outlet_sales) FROM new_train_set\n",
        "GROUP BY fat_content\n",
        "ORDER BY SUM(outlet_sales) desc\n",
        "LIMIT 1;\n",
        "\n"
      ],
      "execution_count": null,
      "outputs": [
        {
          "output_type": "stream",
          "name": "stdout",
          "text": [
            " * sqlite://\n",
            "Done.\n"
          ]
        },
        {
          "output_type": "execute_result",
          "data": {
            "text/html": [
              "<table>\n",
              "    <thead>\n",
              "        <tr>\n",
              "            <th>fat_content</th>\n",
              "            <th>SUM(outlet_sales)</th>\n",
              "        </tr>\n",
              "    </thead>\n",
              "    <tbody>\n",
              "        <tr>\n",
              "            <td>Low Fat</td>\n",
              "            <td>11901328</td>\n",
              "        </tr>\n",
              "    </tbody>\n",
              "</table>"
            ],
            "text/plain": [
              "[('Low Fat', 11901328)]"
            ]
          },
          "metadata": {},
          "execution_count": 77
        }
      ]
    },
    {
      "cell_type": "markdown",
      "metadata": {
        "id": "QHVflIdh_veI"
      },
      "source": [
        "The most visible product? Is it the most selling product?"
      ]
    },
    {
      "cell_type": "code",
      "metadata": {
        "colab": {
          "base_uri": "https://localhost:8080/"
        },
        "id": "6sx-FruF_v_g",
        "outputId": "f616d31b-3490-41e4-9085-5fbeca50ec87"
      },
      "source": [
        "# The most visible product and determining if it's the most selling product\n",
        "# The most selling product is Fruits and Vegetables\n",
        "%%sql\n",
        "SELECT product_type, avg(product_visibility) FROM new_train_set\n",
        "GROUP BY product_type\n",
        "ORDER BY avg(product_visibility) desc\n",
        "LIMIT 1;"
      ],
      "execution_count": null,
      "outputs": [
        {
          "output_type": "stream",
          "name": "stdout",
          "text": [
            " * sqlite://\n",
            "Done.\n"
          ]
        },
        {
          "output_type": "execute_result",
          "data": {
            "text/html": [
              "<table>\n",
              "    <thead>\n",
              "        <tr>\n",
              "            <th>product_type</th>\n",
              "            <th>avg(product_visibility)</th>\n",
              "        </tr>\n",
              "    </thead>\n",
              "    <tbody>\n",
              "        <tr>\n",
              "            <td>Breakfast</td>\n",
              "            <td>0.08572300932727275</td>\n",
              "        </tr>\n",
              "    </tbody>\n",
              "</table>"
            ],
            "text/plain": [
              "[('Breakfast', 0.08572300932727275)]"
            ]
          },
          "metadata": {},
          "execution_count": 78
        }
      ]
    },
    {
      "cell_type": "markdown",
      "metadata": {
        "id": "v_5YxSYg_woQ"
      },
      "source": [
        "From which store do we have the highest sales?"
      ]
    },
    {
      "cell_type": "code",
      "metadata": {
        "colab": {
          "base_uri": "https://localhost:8080/"
        },
        "id": "vj4CTN6y_w58",
        "outputId": "bc3b902c-4c15-427d-90f1-898d80f12acd"
      },
      "source": [
        "# The store with the highest sales\n",
        "%%sql\n",
        "select outlet_id, sum(outlet_sales) from new_train_set\n",
        "group by outlet_id\n",
        "order by sum(outlet_sales) desc\n",
        "limit 1;"
      ],
      "execution_count": null,
      "outputs": [
        {
          "output_type": "stream",
          "name": "stdout",
          "text": [
            " * sqlite://\n",
            "Done.\n"
          ]
        },
        {
          "output_type": "execute_result",
          "data": {
            "text/html": [
              "<table>\n",
              "    <thead>\n",
              "        <tr>\n",
              "            <th>outlet_id</th>\n",
              "            <th>sum(outlet_sales)</th>\n",
              "        </tr>\n",
              "    </thead>\n",
              "    <tbody>\n",
              "        <tr>\n",
              "            <td>OUT027</td>\n",
              "            <td>3453454</td>\n",
              "        </tr>\n",
              "    </tbody>\n",
              "</table>"
            ],
            "text/plain": [
              "[('OUT027', 3453454)]"
            ]
          },
          "metadata": {},
          "execution_count": 79
        }
      ]
    },
    {
      "cell_type": "markdown",
      "metadata": {
        "id": "F1wYEuCB_xKi"
      },
      "source": [
        "Which outlet size has the highest sales? Does the store with the highest sales in this outlet size?"
      ]
    },
    {
      "cell_type": "code",
      "metadata": {
        "colab": {
          "base_uri": "https://localhost:8080/"
        },
        "id": "0qnxDfty_xcj",
        "outputId": "2a221226-7d61-4da7-f1b6-a4207a6f9282"
      },
      "source": [
        "%%sql\n",
        "select outlet_size, sum(outlet_sales) from new_train_set\n",
        "group by outlet_size\n",
        "order by sum(outlet_sales) desc\n",
        "limit 1;"
      ],
      "execution_count": null,
      "outputs": [
        {
          "output_type": "stream",
          "name": "stdout",
          "text": [
            " * sqlite://\n",
            "Done.\n"
          ]
        },
        {
          "output_type": "execute_result",
          "data": {
            "text/html": [
              "<table>\n",
              "    <thead>\n",
              "        <tr>\n",
              "            <th>outlet_size</th>\n",
              "            <th>sum(outlet_sales)</th>\n",
              "        </tr>\n",
              "    </thead>\n",
              "    <tbody>\n",
              "        <tr>\n",
              "            <td>Medium</td>\n",
              "            <td>7488298</td>\n",
              "        </tr>\n",
              "    </tbody>\n",
              "</table>"
            ],
            "text/plain": [
              "[('Medium', 7488298)]"
            ]
          },
          "metadata": {},
          "execution_count": 80
        }
      ]
    },
    {
      "cell_type": "markdown",
      "metadata": {
        "id": "tCX905CZ_xyO"
      },
      "source": [
        "Does the store with the highest sales in this outlet size?"
      ]
    },
    {
      "cell_type": "code",
      "metadata": {
        "colab": {
          "base_uri": "https://localhost:8080/"
        },
        "id": "JTBfBFp5_yAo",
        "outputId": "0f290e7e-7619-4459-8e34-5699ce8bfebd"
      },
      "source": [
        "%%sql\n",
        "select outlet_id, outlet_size, sum(outlet_sales) from new_train_set\n",
        "group by outlet_id\n",
        "order by sum(outlet_sales) desc\n",
        "limit 1;"
      ],
      "execution_count": null,
      "outputs": [
        {
          "output_type": "stream",
          "name": "stdout",
          "text": [
            " * sqlite://\n",
            "Done.\n"
          ]
        },
        {
          "output_type": "execute_result",
          "data": {
            "text/html": [
              "<table>\n",
              "    <thead>\n",
              "        <tr>\n",
              "            <th>outlet_id</th>\n",
              "            <th>outlet_size</th>\n",
              "            <th>sum(outlet_sales)</th>\n",
              "        </tr>\n",
              "    </thead>\n",
              "    <tbody>\n",
              "        <tr>\n",
              "            <td>OUT027</td>\n",
              "            <td>Medium</td>\n",
              "            <td>3453454</td>\n",
              "        </tr>\n",
              "    </tbody>\n",
              "</table>"
            ],
            "text/plain": [
              "[('OUT027', 'Medium', 3453454)]"
            ]
          },
          "metadata": {},
          "execution_count": 81
        }
      ]
    },
    {
      "cell_type": "markdown",
      "metadata": {
        "id": "k1ypaunMNj-1"
      },
      "source": [
        "Which outlet location has the highest sales?"
      ]
    },
    {
      "cell_type": "code",
      "metadata": {
        "colab": {
          "base_uri": "https://localhost:8080/"
        },
        "id": "Hdx4eM1rNkKV",
        "outputId": "ca57c1b0-af36-40b7-c487-94fad5619350"
      },
      "source": [
        "%%sql\n",
        "select location_type, sum(outlet_sales) from new_train_set\n",
        "group by location_type\n",
        "order by sum(outlet_sales) desc\n",
        "limit 1;"
      ],
      "execution_count": null,
      "outputs": [
        {
          "output_type": "stream",
          "name": "stdout",
          "text": [
            " * sqlite://\n",
            "Done.\n"
          ]
        },
        {
          "output_type": "execute_result",
          "data": {
            "text/html": [
              "<table>\n",
              "    <thead>\n",
              "        <tr>\n",
              "            <th>location_type</th>\n",
              "            <th>sum(outlet_sales)</th>\n",
              "        </tr>\n",
              "    </thead>\n",
              "    <tbody>\n",
              "        <tr>\n",
              "            <td>Tier 3</td>\n",
              "            <td>7635070</td>\n",
              "        </tr>\n",
              "    </tbody>\n",
              "</table>"
            ],
            "text/plain": [
              "[('Tier 3', 7635070)]"
            ]
          },
          "metadata": {},
          "execution_count": 82
        }
      ]
    },
    {
      "cell_type": "markdown",
      "metadata": {
        "id": "Ycg5Z1iQNkW7"
      },
      "source": [
        "Does the store with the highest sales in this outlet location?"
      ]
    },
    {
      "cell_type": "code",
      "metadata": {
        "colab": {
          "base_uri": "https://localhost:8080/"
        },
        "id": "Tg_6-WH3NkiD",
        "outputId": "9030eb01-61b2-41b5-d061-1f81258d9bfa"
      },
      "source": [
        "%%sql\n",
        "select outlet_id, location_type, sum(outlet_sales) from new_train_set\n",
        "group by outlet_id\n",
        "order by sum(outlet_sales) desc\n",
        "limit 1;"
      ],
      "execution_count": null,
      "outputs": [
        {
          "output_type": "stream",
          "name": "stdout",
          "text": [
            " * sqlite://\n",
            "Done.\n"
          ]
        },
        {
          "output_type": "execute_result",
          "data": {
            "text/html": [
              "<table>\n",
              "    <thead>\n",
              "        <tr>\n",
              "            <th>outlet_id</th>\n",
              "            <th>location_type</th>\n",
              "            <th>sum(outlet_sales)</th>\n",
              "        </tr>\n",
              "    </thead>\n",
              "    <tbody>\n",
              "        <tr>\n",
              "            <td>OUT027</td>\n",
              "            <td>Tier 3</td>\n",
              "            <td>3453454</td>\n",
              "        </tr>\n",
              "    </tbody>\n",
              "</table>"
            ],
            "text/plain": [
              "[('OUT027', 'Tier 3', 3453454)]"
            ]
          },
          "metadata": {},
          "execution_count": 83
        }
      ]
    },
    {
      "cell_type": "markdown",
      "metadata": {
        "id": "QOTJV1kwNkr8"
      },
      "source": [
        "Which outlet type has the highest sales?\n",
        "\n"
      ]
    },
    {
      "cell_type": "code",
      "metadata": {
        "colab": {
          "base_uri": "https://localhost:8080/"
        },
        "id": "j5YDTcEPNk3D",
        "outputId": "478bb6d8-1765-40ca-edaa-b94ad2280065"
      },
      "source": [
        "%%sql\n",
        "select outlet_type, sum(outlet_sales) from new_train_set\n",
        "group by outlet_type\n",
        "order by sum(outlet_sales) desc\n",
        "limit 1;"
      ],
      "execution_count": null,
      "outputs": [
        {
          "output_type": "stream",
          "name": "stdout",
          "text": [
            " * sqlite://\n",
            "Done.\n"
          ]
        },
        {
          "output_type": "execute_result",
          "data": {
            "text/html": [
              "<table>\n",
              "    <thead>\n",
              "        <tr>\n",
              "            <th>outlet_type</th>\n",
              "            <th>sum(outlet_sales)</th>\n",
              "        </tr>\n",
              "    </thead>\n",
              "    <tbody>\n",
              "        <tr>\n",
              "            <td>Supermarket Type1</td>\n",
              "            <td>12914551</td>\n",
              "        </tr>\n",
              "    </tbody>\n",
              "</table>"
            ],
            "text/plain": [
              "[('Supermarket Type1', 12914551)]"
            ]
          },
          "metadata": {},
          "execution_count": 84
        }
      ]
    },
    {
      "cell_type": "markdown",
      "metadata": {
        "id": "ylbN2ALyQWar"
      },
      "source": [
        "i)  Does the store with the highest sales in this outlet type?"
      ]
    },
    {
      "cell_type": "code",
      "metadata": {
        "colab": {
          "base_uri": "https://localhost:8080/"
        },
        "id": "4Efb0kqqQWnB",
        "outputId": "ea26d672-4015-4fc3-d5a5-1cb166efc5b7"
      },
      "source": [
        "%%sql\n",
        "select outlet_id, outlet_type, sum(outlet_sales) from new_train_set\n",
        "group by outlet_id\n",
        "order by sum(outlet_sales) desc\n",
        "limit 1;"
      ],
      "execution_count": null,
      "outputs": [
        {
          "output_type": "stream",
          "name": "stdout",
          "text": [
            " * sqlite://\n",
            "Done.\n"
          ]
        },
        {
          "output_type": "execute_result",
          "data": {
            "text/html": [
              "<table>\n",
              "    <thead>\n",
              "        <tr>\n",
              "            <th>outlet_id</th>\n",
              "            <th>outlet_type</th>\n",
              "            <th>sum(outlet_sales)</th>\n",
              "        </tr>\n",
              "    </thead>\n",
              "    <tbody>\n",
              "        <tr>\n",
              "            <td>OUT027</td>\n",
              "            <td>Supermarket Type3</td>\n",
              "            <td>3453454</td>\n",
              "        </tr>\n",
              "    </tbody>\n",
              "</table>"
            ],
            "text/plain": [
              "[('OUT027', 'Supermarket Type3', 3453454)]"
            ]
          },
          "metadata": {},
          "execution_count": 85
        }
      ]
    },
    {
      "cell_type": "markdown",
      "metadata": {
        "id": "KPJxtNZQYSfw"
      },
      "source": [
        "# PYTHON ANALYSIS"
      ]
    },
    {
      "cell_type": "code",
      "metadata": {
        "colab": {
          "base_uri": "https://localhost:8080/",
          "height": 112
        },
        "id": "cMq7S-iGQlS8",
        "outputId": "028b7705-41d9-4ad6-ffb7-9100f3215ba8"
      },
      "source": [
        "# The most sold product\n",
        "most_sold_product = train_set[['product_type', 'outlet_sales']]\n",
        "most_sold_product = most_sold_product.groupby(['product_type']).sum('outlet_sales').sort_values('outlet_sales', ascending = False)\n",
        "most_sold_product.head(1)"
      ],
      "execution_count": null,
      "outputs": [
        {
          "output_type": "execute_result",
          "data": {
            "text/html": [
              "<div>\n",
              "<style scoped>\n",
              "    .dataframe tbody tr th:only-of-type {\n",
              "        vertical-align: middle;\n",
              "    }\n",
              "\n",
              "    .dataframe tbody tr th {\n",
              "        vertical-align: top;\n",
              "    }\n",
              "\n",
              "    .dataframe thead th {\n",
              "        text-align: right;\n",
              "    }\n",
              "</style>\n",
              "<table border=\"1\" class=\"dataframe\">\n",
              "  <thead>\n",
              "    <tr style=\"text-align: right;\">\n",
              "      <th></th>\n",
              "      <th>outlet_sales</th>\n",
              "    </tr>\n",
              "    <tr>\n",
              "      <th>product_type</th>\n",
              "      <th></th>\n",
              "    </tr>\n",
              "  </thead>\n",
              "  <tbody>\n",
              "    <tr>\n",
              "      <th>Fruits and Vegetables</th>\n",
              "      <td>2819435</td>\n",
              "    </tr>\n",
              "  </tbody>\n",
              "</table>\n",
              "</div>"
            ],
            "text/plain": [
              "                       outlet_sales\n",
              "product_type                       \n",
              "Fruits and Vegetables       2819435"
            ]
          },
          "metadata": {},
          "execution_count": 86
        }
      ]
    },
    {
      "cell_type": "code",
      "metadata": {
        "colab": {
          "base_uri": "https://localhost:8080/",
          "height": 112
        },
        "id": "g9heGYDwQlZN",
        "outputId": "cbe4b05b-2e31-4e28-e1ab-f338479cda49"
      },
      "source": [
        "# which type of fat content product has the most sales and what were the total sales\n",
        "\n",
        "most_sold_fatcontent = train_set[['fat_content', 'outlet_sales']]\n",
        "\n",
        "most_sold_fatcontent = most_sold_fatcontent.groupby(['fat_content']).sum('outlet_sales').sort_values('outlet_sales', ascending = False)\n",
        "most_sold_fatcontent.head(1)"
      ],
      "execution_count": null,
      "outputs": [
        {
          "output_type": "execute_result",
          "data": {
            "text/html": [
              "<div>\n",
              "<style scoped>\n",
              "    .dataframe tbody tr th:only-of-type {\n",
              "        vertical-align: middle;\n",
              "    }\n",
              "\n",
              "    .dataframe tbody tr th {\n",
              "        vertical-align: top;\n",
              "    }\n",
              "\n",
              "    .dataframe thead th {\n",
              "        text-align: right;\n",
              "    }\n",
              "</style>\n",
              "<table border=\"1\" class=\"dataframe\">\n",
              "  <thead>\n",
              "    <tr style=\"text-align: right;\">\n",
              "      <th></th>\n",
              "      <th>outlet_sales</th>\n",
              "    </tr>\n",
              "    <tr>\n",
              "      <th>fat_content</th>\n",
              "      <th></th>\n",
              "    </tr>\n",
              "  </thead>\n",
              "  <tbody>\n",
              "    <tr>\n",
              "      <th>Low Fat</th>\n",
              "      <td>11901328</td>\n",
              "    </tr>\n",
              "  </tbody>\n",
              "</table>\n",
              "</div>"
            ],
            "text/plain": [
              "             outlet_sales\n",
              "fat_content              \n",
              "Low Fat          11901328"
            ]
          },
          "metadata": {},
          "execution_count": 87
        }
      ]
    },
    {
      "cell_type": "code",
      "metadata": {
        "colab": {
          "base_uri": "https://localhost:8080/",
          "height": 112
        },
        "id": "V3a1dO2vQlky",
        "outputId": "722243b6-2bea-4bc6-c45c-1ee38ff63da1"
      },
      "source": [
        "# the most visible product and whether it has the most sales\n",
        "\n",
        "most_visible = train_set[['product_type','product_visibility']]\n",
        "\n",
        "most_visible = most_visible.groupby(['product_type']).mean('product_visibility').sort_values('product_visibility', ascending = False)\n",
        "most_visible.head(1)"
      ],
      "execution_count": null,
      "outputs": [
        {
          "output_type": "execute_result",
          "data": {
            "text/html": [
              "<div>\n",
              "<style scoped>\n",
              "    .dataframe tbody tr th:only-of-type {\n",
              "        vertical-align: middle;\n",
              "    }\n",
              "\n",
              "    .dataframe tbody tr th {\n",
              "        vertical-align: top;\n",
              "    }\n",
              "\n",
              "    .dataframe thead th {\n",
              "        text-align: right;\n",
              "    }\n",
              "</style>\n",
              "<table border=\"1\" class=\"dataframe\">\n",
              "  <thead>\n",
              "    <tr style=\"text-align: right;\">\n",
              "      <th></th>\n",
              "      <th>product_visibility</th>\n",
              "    </tr>\n",
              "    <tr>\n",
              "      <th>product_type</th>\n",
              "      <th></th>\n",
              "    </tr>\n",
              "  </thead>\n",
              "  <tbody>\n",
              "    <tr>\n",
              "      <th>Breakfast</th>\n",
              "      <td>0.085723</td>\n",
              "    </tr>\n",
              "  </tbody>\n",
              "</table>\n",
              "</div>"
            ],
            "text/plain": [
              "              product_visibility\n",
              "product_type                    \n",
              "Breakfast               0.085723"
            ]
          },
          "metadata": {},
          "execution_count": 88
        }
      ]
    },
    {
      "cell_type": "code",
      "metadata": {
        "colab": {
          "base_uri": "https://localhost:8080/",
          "height": 112
        },
        "id": "kY7-foDVU9di",
        "outputId": "86c1f449-ffcf-4fc1-efed-7e6f0248bc03"
      },
      "source": [
        "# store with the highest sales\n",
        "\n",
        "best_store = train_set[['outlet_id','outlet_size', 'outlet_sales']]\n",
        "\n",
        "best_store = best_store.groupby(['outlet_id', 'outlet_size']).sum('outlet_sales').sort_values('outlet_sales', ascending = False)\n",
        "best_store.head(1)"
      ],
      "execution_count": null,
      "outputs": [
        {
          "output_type": "execute_result",
          "data": {
            "text/html": [
              "<div>\n",
              "<style scoped>\n",
              "    .dataframe tbody tr th:only-of-type {\n",
              "        vertical-align: middle;\n",
              "    }\n",
              "\n",
              "    .dataframe tbody tr th {\n",
              "        vertical-align: top;\n",
              "    }\n",
              "\n",
              "    .dataframe thead th {\n",
              "        text-align: right;\n",
              "    }\n",
              "</style>\n",
              "<table border=\"1\" class=\"dataframe\">\n",
              "  <thead>\n",
              "    <tr style=\"text-align: right;\">\n",
              "      <th></th>\n",
              "      <th></th>\n",
              "      <th>outlet_sales</th>\n",
              "    </tr>\n",
              "    <tr>\n",
              "      <th>outlet_id</th>\n",
              "      <th>outlet_size</th>\n",
              "      <th></th>\n",
              "    </tr>\n",
              "  </thead>\n",
              "  <tbody>\n",
              "    <tr>\n",
              "      <th>OUT027</th>\n",
              "      <th>Medium</th>\n",
              "      <td>3453454</td>\n",
              "    </tr>\n",
              "  </tbody>\n",
              "</table>\n",
              "</div>"
            ],
            "text/plain": [
              "                       outlet_sales\n",
              "outlet_id outlet_size              \n",
              "OUT027    Medium            3453454"
            ]
          },
          "metadata": {},
          "execution_count": 89
        }
      ]
    },
    {
      "cell_type": "code",
      "metadata": {
        "colab": {
          "base_uri": "https://localhost:8080/",
          "height": 112
        },
        "id": "v2qi5rLthakY",
        "outputId": "0c53ec9e-0787-4994-eb63-20fdc8c711fb"
      },
      "source": [
        "# the outlet size with the highest sales and does the store with the highest sales in this outlet size?\n",
        "\n",
        "best_outlet_size = train_set[['outlet_size', 'outlet_sales']]\n",
        "\n",
        "best_outlet_size = best_outlet_size.groupby(['outlet_size']).sum('outlet_sales').sort_values('outlet_sales', ascending = False)\n",
        "best_outlet_size.head(1)"
      ],
      "execution_count": null,
      "outputs": [
        {
          "output_type": "execute_result",
          "data": {
            "text/html": [
              "<div>\n",
              "<style scoped>\n",
              "    .dataframe tbody tr th:only-of-type {\n",
              "        vertical-align: middle;\n",
              "    }\n",
              "\n",
              "    .dataframe tbody tr th {\n",
              "        vertical-align: top;\n",
              "    }\n",
              "\n",
              "    .dataframe thead th {\n",
              "        text-align: right;\n",
              "    }\n",
              "</style>\n",
              "<table border=\"1\" class=\"dataframe\">\n",
              "  <thead>\n",
              "    <tr style=\"text-align: right;\">\n",
              "      <th></th>\n",
              "      <th>outlet_sales</th>\n",
              "    </tr>\n",
              "    <tr>\n",
              "      <th>outlet_size</th>\n",
              "      <th></th>\n",
              "    </tr>\n",
              "  </thead>\n",
              "  <tbody>\n",
              "    <tr>\n",
              "      <th>Medium</th>\n",
              "      <td>7488298</td>\n",
              "    </tr>\n",
              "  </tbody>\n",
              "</table>\n",
              "</div>"
            ],
            "text/plain": [
              "             outlet_sales\n",
              "outlet_size              \n",
              "Medium            7488298"
            ]
          },
          "metadata": {},
          "execution_count": 90
        }
      ]
    },
    {
      "cell_type": "code",
      "metadata": {
        "colab": {
          "base_uri": "https://localhost:8080/",
          "height": 112
        },
        "id": "_KOhp1COHEBd",
        "outputId": "035ddaa7-b018-4d3c-a3a4-13d623435d94"
      },
      "source": [
        "# outlet location with the highest sales and whether the store with the highest sales in this location\n",
        "\n",
        "best_location = train_set[['location_type', 'outlet_sales']]\n",
        "\n",
        "best_location = best_location.groupby(['location_type']).sum('outlet_sales').sort_values('outlet_sales', ascending = False)\n",
        "best_location.head(1)"
      ],
      "execution_count": null,
      "outputs": [
        {
          "output_type": "execute_result",
          "data": {
            "text/html": [
              "<div>\n",
              "<style scoped>\n",
              "    .dataframe tbody tr th:only-of-type {\n",
              "        vertical-align: middle;\n",
              "    }\n",
              "\n",
              "    .dataframe tbody tr th {\n",
              "        vertical-align: top;\n",
              "    }\n",
              "\n",
              "    .dataframe thead th {\n",
              "        text-align: right;\n",
              "    }\n",
              "</style>\n",
              "<table border=\"1\" class=\"dataframe\">\n",
              "  <thead>\n",
              "    <tr style=\"text-align: right;\">\n",
              "      <th></th>\n",
              "      <th>outlet_sales</th>\n",
              "    </tr>\n",
              "    <tr>\n",
              "      <th>location_type</th>\n",
              "      <th></th>\n",
              "    </tr>\n",
              "  </thead>\n",
              "  <tbody>\n",
              "    <tr>\n",
              "      <th>Tier 3</th>\n",
              "      <td>7635070</td>\n",
              "    </tr>\n",
              "  </tbody>\n",
              "</table>\n",
              "</div>"
            ],
            "text/plain": [
              "               outlet_sales\n",
              "location_type              \n",
              "Tier 3              7635070"
            ]
          },
          "metadata": {},
          "execution_count": 91
        }
      ]
    },
    {
      "cell_type": "code",
      "metadata": {
        "colab": {
          "base_uri": "https://localhost:8080/",
          "height": 112
        },
        "id": "4DyPP4Cci7zX",
        "outputId": "2bd0da8a-f288-4dc6-814e-f16652813f04"
      },
      "source": [
        "# location of the store with the highest sales\n",
        "\n",
        "loc_best_store = train_set[['outlet_id','location_type', 'outlet_sales']]\n",
        "\n",
        "loc_best_store = loc_best_store.groupby(['outlet_id', 'location_type']).sum('outlet_sales').sort_values('outlet_sales', ascending = False)\n",
        "loc_best_store.head(1)"
      ],
      "execution_count": null,
      "outputs": [
        {
          "output_type": "execute_result",
          "data": {
            "text/html": [
              "<div>\n",
              "<style scoped>\n",
              "    .dataframe tbody tr th:only-of-type {\n",
              "        vertical-align: middle;\n",
              "    }\n",
              "\n",
              "    .dataframe tbody tr th {\n",
              "        vertical-align: top;\n",
              "    }\n",
              "\n",
              "    .dataframe thead th {\n",
              "        text-align: right;\n",
              "    }\n",
              "</style>\n",
              "<table border=\"1\" class=\"dataframe\">\n",
              "  <thead>\n",
              "    <tr style=\"text-align: right;\">\n",
              "      <th></th>\n",
              "      <th></th>\n",
              "      <th>outlet_sales</th>\n",
              "    </tr>\n",
              "    <tr>\n",
              "      <th>outlet_id</th>\n",
              "      <th>location_type</th>\n",
              "      <th></th>\n",
              "    </tr>\n",
              "  </thead>\n",
              "  <tbody>\n",
              "    <tr>\n",
              "      <th>OUT027</th>\n",
              "      <th>Tier 3</th>\n",
              "      <td>3453454</td>\n",
              "    </tr>\n",
              "  </tbody>\n",
              "</table>\n",
              "</div>"
            ],
            "text/plain": [
              "                         outlet_sales\n",
              "outlet_id location_type              \n",
              "OUT027    Tier 3              3453454"
            ]
          },
          "metadata": {},
          "execution_count": 92
        }
      ]
    },
    {
      "cell_type": "code",
      "metadata": {
        "colab": {
          "base_uri": "https://localhost:8080/",
          "height": 112
        },
        "id": "cQuO1XZBi7-i",
        "outputId": "86896e99-c450-4646-956a-5adeb229384a"
      },
      "source": [
        "# outlet type with the highest sales and does the store with the highest sales in this outlet type?\n",
        "\n",
        "best_outlet_type = train_set[['outlet_type', 'outlet_sales']]\n",
        "\n",
        "best_outlet_type = best_outlet_type.groupby(['outlet_type']).sum('outlet_sales').sort_values('outlet_sales', ascending = False)\n",
        "best_outlet_type.head(1)"
      ],
      "execution_count": null,
      "outputs": [
        {
          "output_type": "execute_result",
          "data": {
            "text/html": [
              "<div>\n",
              "<style scoped>\n",
              "    .dataframe tbody tr th:only-of-type {\n",
              "        vertical-align: middle;\n",
              "    }\n",
              "\n",
              "    .dataframe tbody tr th {\n",
              "        vertical-align: top;\n",
              "    }\n",
              "\n",
              "    .dataframe thead th {\n",
              "        text-align: right;\n",
              "    }\n",
              "</style>\n",
              "<table border=\"1\" class=\"dataframe\">\n",
              "  <thead>\n",
              "    <tr style=\"text-align: right;\">\n",
              "      <th></th>\n",
              "      <th>outlet_sales</th>\n",
              "    </tr>\n",
              "    <tr>\n",
              "      <th>outlet_type</th>\n",
              "      <th></th>\n",
              "    </tr>\n",
              "  </thead>\n",
              "  <tbody>\n",
              "    <tr>\n",
              "      <th>Supermarket Type1</th>\n",
              "      <td>12914551</td>\n",
              "    </tr>\n",
              "  </tbody>\n",
              "</table>\n",
              "</div>"
            ],
            "text/plain": [
              "                   outlet_sales\n",
              "outlet_type                    \n",
              "Supermarket Type1      12914551"
            ]
          },
          "metadata": {},
          "execution_count": 93
        }
      ]
    },
    {
      "cell_type": "code",
      "metadata": {
        "colab": {
          "base_uri": "https://localhost:8080/",
          "height": 112
        },
        "id": "66bBfWmVi8F0",
        "outputId": "9e9d733d-8117-4e10-8aa4-8a1ee557551d"
      },
      "source": [
        "# outlet type of the store with the highest sales\n",
        "\n",
        "outlet_type_bstore = train_set[['outlet_id','outlet_type', 'outlet_sales']]\n",
        "\n",
        "outlet_type_bstore = outlet_type_bstore.groupby(['outlet_id','outlet_type']).sum('outlet_sales').sort_values('outlet_sales', ascending = False)\n",
        "outlet_type_bstore.head(1)"
      ],
      "execution_count": null,
      "outputs": [
        {
          "output_type": "execute_result",
          "data": {
            "text/html": [
              "<div>\n",
              "<style scoped>\n",
              "    .dataframe tbody tr th:only-of-type {\n",
              "        vertical-align: middle;\n",
              "    }\n",
              "\n",
              "    .dataframe tbody tr th {\n",
              "        vertical-align: top;\n",
              "    }\n",
              "\n",
              "    .dataframe thead th {\n",
              "        text-align: right;\n",
              "    }\n",
              "</style>\n",
              "<table border=\"1\" class=\"dataframe\">\n",
              "  <thead>\n",
              "    <tr style=\"text-align: right;\">\n",
              "      <th></th>\n",
              "      <th></th>\n",
              "      <th>outlet_sales</th>\n",
              "    </tr>\n",
              "    <tr>\n",
              "      <th>outlet_id</th>\n",
              "      <th>outlet_type</th>\n",
              "      <th></th>\n",
              "    </tr>\n",
              "  </thead>\n",
              "  <tbody>\n",
              "    <tr>\n",
              "      <th>OUT027</th>\n",
              "      <th>Supermarket Type3</th>\n",
              "      <td>3453454</td>\n",
              "    </tr>\n",
              "  </tbody>\n",
              "</table>\n",
              "</div>"
            ],
            "text/plain": [
              "                             outlet_sales\n",
              "outlet_id outlet_type                    \n",
              "OUT027    Supermarket Type3       3453454"
            ]
          },
          "metadata": {},
          "execution_count": 94
        }
      ]
    },
    {
      "cell_type": "markdown",
      "metadata": {
        "id": "F0YVGmj1l0mk"
      },
      "source": [
        "# DATA VISUALIZATION\n",
        "\n"
      ]
    },
    {
      "cell_type": "code",
      "metadata": {
        "colab": {
          "base_uri": "https://localhost:8080/",
          "height": 368
        },
        "id": "Q01tee4HmLnp",
        "outputId": "7b939708-a1f4-4930-d4df-8e99ca683d4e"
      },
      "source": [
        "# Understanding the performace by the outlets\n",
        "\n",
        "plt.figure(figsize=(8,5))\n",
        "sns.barplot(x='outlet_id',y='outlet_sales',data=train_set, palette='rainbow')\n",
        "plt.title(\"Sales By Outlet ID\")\n",
        "\n",
        "# OUT27 had the most outlet sales as compared to the other 9 outlets.\n",
        "# OUT10 and OUT19 had the least sales."
      ],
      "execution_count": null,
      "outputs": [
        {
          "output_type": "execute_result",
          "data": {
            "text/plain": [
              "Text(0.5, 1.0, 'Sales By Outlet ID')"
            ]
          },
          "metadata": {},
          "execution_count": 95
        },
        {
          "output_type": "display_data",
          "data": {
            "image/png": "[encoded data removed]",
            "text/plain": [
              "<Figure size 576x360 with 1 Axes>"
            ]
          },
          "metadata": {
            "needs_background": "light"
          }
        }
      ]
    },
    {
      "cell_type": "markdown",
      "metadata": {
        "id": "8fYE_Btc1crG"
      },
      "source": [
        "From the graph, we can see that OUT027 has the highest ouletsales and OUT010 being the store with the lowest sales."
      ]
    },
    {
      "cell_type": "code",
      "metadata": {
        "colab": {
          "base_uri": "https://localhost:8080/",
          "height": 368
        },
        "id": "nd1rHVp6mUiD",
        "outputId": "6488497a-1edd-47f7-a267-c305f58e17f0"
      },
      "source": [
        "# Performance by outlet sizes\n",
        "\n",
        "out_size = train_set[['outlet_size', 'outlet_sales']]\n",
        "\n",
        "out_size = out_size.groupby(['outlet_size'], as_index= False).sum('outlet_sales').sort_values('outlet_sales', ascending = False)\n",
        "out_size.head(1)\n",
        "\n",
        "\n",
        "plt.figure(figsize=(8,5))\n",
        "sns.barplot(x='outlet_size',y='outlet_sales',data=out_size, palette='rainbow')\n",
        "plt.title(\"Sales by Outlet Size\")\n",
        "\n",
        "# The medium outlet sizes had most sales compared to the other outlet sizes."
      ],
      "execution_count": null,
      "outputs": [
        {
          "output_type": "execute_result",
          "data": {
            "text/plain": [
              "Text(0.5, 1.0, 'Sales by Outlet Size')"
            ]
          },
          "metadata": {},
          "execution_count": 96
        },
        {
          "output_type": "display_data",
          "data": {
            "image/png": "[encoded data removed]",
            "text/plain": [
              "<Figure size 576x360 with 1 Axes>"
            ]
          },
          "metadata": {
            "needs_background": "light"
          }
        }
      ]
    },
    {
      "cell_type": "markdown",
      "metadata": {
        "id": "HFBNk0aN0lUq"
      },
      "source": [
        "The medium-sizeD outlet has the highest number of sales and high-sized outlet stores having the lowest sales.\n",
        "\n",
        "There is only one high-sized outlet."
      ]
    },
    {
      "cell_type": "code",
      "metadata": {
        "colab": {
          "base_uri": "https://localhost:8080/",
          "height": 368
        },
        "id": "Ss7UaGQ4mqK3",
        "outputId": "2e9a0782-720b-4edb-c178-b87c6b169c67"
      },
      "source": [
        "# Performance by outlet types\n",
        "# to go through it\n",
        "\n",
        "out_type = train_set[['outlet_type', 'outlet_sales']]\n",
        "\n",
        "out_type = out_type.groupby(['outlet_type'], as_index= False).sum('outlet_sales').sort_values('outlet_sales', ascending = False)\n",
        "out_type.head(1)\n",
        "\n",
        "plt.figure(figsize=(8,5))\n",
        "sns.barplot(x='outlet_type',y='outlet_sales',data=out_type, palette='rainbow')\n",
        "plt.title(\"Sales by Outlet Type\")\n",
        "\n",
        "# The outlet type with the most sales was Supermarket type 3 while Grocery store had the least sales.\n",
        "# A lot of support is needed to boost sales for the grocery stores.\n",
        "# Supermarket Type 3 is the oldest oulet to be established in 1985 and the only type 3 supermarket."
      ],
      "execution_count": null,
      "outputs": [
        {
          "output_type": "execute_result",
          "data": {
            "text/plain": [
              "Text(0.5, 1.0, 'Sales by Outlet Type')"
            ]
          },
          "metadata": {},
          "execution_count": 97
        },
        {
          "output_type": "display_data",
          "data": {
            "image/png": "[encoded data removed]",
            "text/plain": [
              "<Figure size 576x360 with 1 Axes>"
            ]
          },
          "metadata": {
            "needs_background": "light"
          }
        }
      ]
    },
    {
      "cell_type": "markdown",
      "metadata": {
        "id": "upjBu8Gn0a44"
      },
      "source": [
        "On the outlet type, we can observe that Supermarket type 1 has the highest number of sales followed by type 3 then type2 and lastly the grocery stores having the lowest sales."
      ]
    },
    {
      "cell_type": "code",
      "metadata": {
        "colab": {
          "base_uri": "https://localhost:8080/",
          "height": 368
        },
        "id": "yxJuwV2Om1me",
        "outputId": "26b82c6e-9f32-44c3-8b79-8e1ff6a69d58"
      },
      "source": [
        "# Performance according to location types\n",
        "\n",
        "loc_type = train_set[['location_type', 'outlet_sales']]\n",
        "\n",
        "loc_type = loc_type.groupby(['location_type'], as_index= False).sum('outlet_sales').sort_values('outlet_sales', ascending = False)\n",
        "loc_type.head(1)\n",
        "\n",
        "plt.figure(figsize=(8,5))\n",
        "sns.barplot(x='location_type',y='outlet_sales',data=loc_type, palette='rainbow')\n",
        "plt.title(\"Sales by Location Type\")\n",
        "\n",
        "# The Location type with the highest outlet sales was tier 2 despite tier 3 having more oulets(4) and the least was tier 1"
      ],
      "execution_count": null,
      "outputs": [
        {
          "output_type": "execute_result",
          "data": {
            "text/plain": [
              "Text(0.5, 1.0, 'Sales by Location Type')"
            ]
          },
          "metadata": {},
          "execution_count": 98
        },
        {
          "output_type": "display_data",
          "data": {
            "image/png": "[encoded data removed]",
            "text/plain": [
              "<Figure size 576x360 with 1 Axes>"
            ]
          },
          "metadata": {
            "needs_background": "light"
          }
        }
      ]
    },
    {
      "cell_type": "markdown",
      "metadata": {
        "id": "-AZLW5B80Kul"
      },
      "source": [
        "From the bar plot, we can observe that for location type, Tier 3 has the highest sales followed by Tier 2 and finally Tier 1 having the lowest sales."
      ]
    },
    {
      "cell_type": "markdown",
      "metadata": {
        "id": "93kZzH1lYgci"
      },
      "source": [
        "#### CONCLUSIONS\n"
      ]
    },
    {
      "cell_type": "markdown",
      "metadata": {
        "id": "bdl0XGA3Yk0c"
      },
      "source": [
        "The most sold product was:\n",
        "\n",
        "*   Fruits and vegetables with total sales of 2,819,435\n",
        "\n",
        "\n",
        "The most sold type of fat content product was:\n",
        "\n",
        "*  Low Fat with total sales of 11,901,328\n",
        "\n",
        "\n",
        "The most visible product was:\n",
        "\n",
        "*   Breakfast with 8.6% visibility rate.\n",
        "\n",
        "\n",
        "The store/outlet with the highest sales was:\n",
        "\n",
        "*   OUT027 with sales of 3,453,454\n",
        "\n",
        "\n",
        "The medium size stores had the highest sales in 2013. OUT027 is a medium sized store.\n",
        "\n",
        "The location type that had the highest sales was:\n",
        "\n",
        "*   Tier 3 with total sales of 7,635,070.\n",
        "\n",
        "*   The store with the highest sales was in this location type.\n",
        "\n",
        "\n",
        "The outlet type with the highest sales was:\n",
        "\n",
        "*   Supermarket Type 1 with total sales of 12,914,551.\n"
      ]
    },
    {
      "cell_type": "code",
      "metadata": {
        "id": "0asDhxN_g7T-",
        "colab": {
          "base_uri": "https://localhost:8080/",
          "height": 130
        },
        "outputId": "7a696d30-2bb6-41a6-8260-9ff93f40b094"
      },
      "source": [
        "class Student:\n",
        "  increase_amount = 1.03\n",
        "\n",
        "  def_init_(self,first,last,score):\n",
        "    self.first = first\n",
        "    self.last = last\n",
        "    self.email = first+ '.'+last+'@email.com'\n",
        "    self.score = score\n",
        "\n",
        "  def fullname(self):\n",
        "    return '{}{}'.format(self.first,self.last)\n",
        "\n",
        "  def increase_score(self):\n",
        "    self.score = self.score*self.increase_amount\n"
      ],
      "execution_count": null,
      "outputs": [
        {
          "output_type": "error",
          "ename": "SyntaxError",
          "evalue": "ignored",
          "traceback": [
            "\u001b[0;36m  File \u001b[0;32m\"<ipython-input-3-625792dc16f8>\"\u001b[0;36m, line \u001b[0;32m4\u001b[0m\n\u001b[0;31m    def__init__(self,first,last,score):\u001b[0m\n\u001b[0m                                       ^\u001b[0m\n\u001b[0;31mSyntaxError\u001b[0m\u001b[0;31m:\u001b[0m invalid syntax\n"
          ]
        }
      ]
    },
    {
      "cell_type": "code",
      "metadata": {
        "colab": {
          "base_uri": "https://localhost:8080/",
          "height": 130
        },
        "id": "-vpTWYLuXEpn",
        "outputId": "396b2b7c-56c6-4746-c77e-b4c13fb82553"
      },
      "source": [
        "class Student:\n",
        "  increase_amount = 1.03\n",
        "\n",
        "  def_init_(self,first,last,score):\n",
        "    self.first = first\n",
        "    self.last = last\n",
        "    self.email = first+ '.'+last+'@email.com'\n",
        "    self.score = score\n",
        "\n",
        "  def fullname(self):\n",
        "    return '{}{}'.format(self.first,self.last)\n",
        "\n",
        "  def increase_score(self):\n",
        "    self.score = self.score*Student.increase_amount"
      ],
      "execution_count": null,
      "outputs": [
        {
          "output_type": "error",
          "ename": "SyntaxError",
          "evalue": "ignored",
          "traceback": [
            "\u001b[0;36m  File \u001b[0;32m\"<ipython-input-2-0881449f21cf>\"\u001b[0;36m, line \u001b[0;32m4\u001b[0m\n\u001b[0;31m    def_init_(self,first,last,score):\u001b[0m\n\u001b[0m                                     ^\u001b[0m\n\u001b[0;31mSyntaxError\u001b[0m\u001b[0;31m:\u001b[0m invalid syntax\n"
          ]
        }
      ]
    },
    {
      "cell_type": "code",
      "metadata": {
        "id": "aKQYYUTwXY-C"
      },
      "source": [],
      "execution_count": null,
      "outputs": []
    }
  ]
}